{
 "cells": [
  {
   "cell_type": "code",
   "execution_count": 16,
   "metadata": {},
   "outputs": [
    {
     "name": "stdout",
     "output_type": "stream",
     "text": [
      "The autoreload extension is already loaded. To reload it, use:\n",
      "  %reload_ext autoreload\n"
     ]
    }
   ],
   "source": [
    "%load_ext autoreload\n",
    "%autoreload 2\n",
    "\n",
    "import sys\n",
    "import os\n",
    "import numpy as np\n",
    "from numpy import cos,pi,sin,pi\n",
    "from pathlib import Path\n",
    "\n",
    "lab_a=Path('../Lab_A/') # Get the path to your Lab_A folder\n",
    "sys.path.append(str(lab_a.resolve())) # add the Lab_A folder to the list of paths \n",
    "\n",
    "from mycode.position import *\n",
    "from mycode.SSP import SSP\n",
    "from mycode.analyzess import AnalyzeSS"
   ]
  },
  {
   "cell_type": "code",
   "execution_count": 17,
   "metadata": {},
   "outputs": [
    {
     "name": "stdout",
     "output_type": "stream",
     "text": [
      "Opening sound speed profile data file:Data/ssp.txt\n"
     ]
    }
   ],
   "source": [
    "ssp=SSP()\n",
    "ssp.read_mvp_file('Data/ssp.txt')"
   ]
  },
  {
   "cell_type": "code",
   "execution_count": 21,
   "metadata": {},
   "outputs": [
    {
     "name": "stdout",
     "output_type": "stream",
     "text": [
      "th: 0.349067725\n",
      "th: 0.349030238\n",
      "Time in last layer is 0.0044\n",
      "Start Layer 1  ranges from 2.00m to 4.00m\n",
      "Signal traversed 2 layer boundaries\n",
      "End Layer 3  ranges from 6.00m to 8.00m\n",
      "Final depression angle: 19.9976 degrees\n",
      "vertical distance from top of 3 to reflection depth is 1.11\n",
      "vertical distance from the surface is 7.1132\n",
      "TWTT to top of end layer 0.0156s\n",
      "\n",
      "\n",
      "dt 0.007982298520939925\n",
      "A signal traverses from depth 2.10m in layer 1 for 0.02s and reaches the bottom at 7.11m in layer 3\n"
     ]
    }
   ],
   "source": [
    "d_start = 2.1\n",
    "th_d = 20*pi/180\n",
    "c_start = 1465.891\n",
    "twtt = .02\n",
    "depth, rad_dist, start, stop = ssp.determine_depth(d_start,th_d,c_start,twtt)\n",
    "print('A signal traverses from depth %.2fm in layer %d for %.2fs and reaches the bottom at %.2fm in layer %d' \\\n",
    "      % (d_start,start, twtt, depth, stop))\n",
    "\n",
    "TWTT, start, stop = ssp.determine_twtt(d_start,th_d,c_start,depth)\n",
    "print((TWTT - twtt)*c_start/2)\n",
    "depth"
   ]
  },
  {
   "cell_type": "code",
   "execution_count": 14,
   "metadata": {},
   "outputs": [
    {
     "data": {
      "text/plain": [
       "4.886849783067396"
      ]
     },
     "execution_count": 14,
     "metadata": {},
     "output_type": "execute_result"
    }
   ],
   "source": [
    "depth"
   ]
  },
  {
   "cell_type": "code",
   "execution_count": null,
   "metadata": {},
   "outputs": [],
   "source": []
  }
 ],
 "metadata": {
  "kernelspec": {
   "display_name": "Python 3",
   "language": "python",
   "name": "python3"
  },
  "language_info": {
   "codemirror_mode": {
    "name": "ipython",
    "version": 3
   },
   "file_extension": ".py",
   "mimetype": "text/x-python",
   "name": "python",
   "nbconvert_exporter": "python",
   "pygments_lexer": "ipython3",
   "version": "3.6.7"
  }
 },
 "nbformat": 4,
 "nbformat_minor": 2
}
