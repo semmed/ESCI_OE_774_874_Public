{
 "cells": [
  {
   "cell_type": "code",
   "execution_count": 81,
   "metadata": {},
   "outputs": [
    {
     "name": "stdout",
     "output_type": "stream",
     "text": [
      "The autoreload extension is already loaded. To reload it, use:\n",
      "  %reload_ext autoreload\n"
     ]
    }
   ],
   "source": [
    "%load_ext autoreload\n",
    "%autoreload 2\n",
    "\n",
    "import sys\n",
    "import os\n",
    "import numpy as np\n",
    "from numpy import cos,pi,sin,pi\n",
    "from pathlib import Path\n",
    "\n",
    "lab_a=Path('../Lab_A/') # Get the path to your Lab_A folder\n",
    "sys.path.append(str(lab_a.resolve())) # add the Lab_A folder to the list of paths \n",
    "\n",
    "from mycode.position import *\n",
    "from mycode.SSP import SSP\n",
    "from mycode.analyzess import AnalyzeSS\n",
    "\n"
   ]
  },
  {
   "cell_type": "code",
   "execution_count": 201,
   "metadata": {
    "scrolled": true
   },
   "outputs": [
    {
     "name": "stdout",
     "output_type": "stream",
     "text": [
      "Opening sound speed profile data file:Data/ssp.txt\n",
      "16.70361173223248\n",
      "3.9\n"
     ]
    }
   ],
   "source": [
    "# Create a SSP object and read data into it \n",
    "ssp=SSP()\n",
    "ssp.read_mvp_file('Data/ssp.txt')\n",
    "\n",
    "# Do a Ray trace\n",
    "\n",
    "d_start=2.1\n",
    "depth, rad_dist, start, stop = ssp.determine_depth(d_start,85*pi/180,1465.891,0.02)\n",
    "print(depth[start])\n",
    "# ssp.determine_twtt(d_start,85*pi/180,1465.891,16.7036)"
   ]
  },
  {
   "cell_type": "code",
   "execution_count": 37,
   "metadata": {},
   "outputs": [
    {
     "data": {
      "text/plain": [
       "10"
      ]
     },
     "execution_count": 37,
     "metadata": {},
     "output_type": "execute_result"
    }
   ],
   "source": [
    "stop"
   ]
  },
  {
   "cell_type": "code",
   "execution_count": null,
   "metadata": {},
   "outputs": [],
   "source": []
  }
 ],
 "metadata": {
  "kernelspec": {
   "display_name": "Python 3",
   "language": "python",
   "name": "python3"
  },
  "language_info": {
   "codemirror_mode": {
    "name": "ipython",
    "version": 3
   },
   "file_extension": ".py",
   "mimetype": "text/x-python",
   "name": "python",
   "nbconvert_exporter": "python",
   "pygments_lexer": "ipython3",
   "version": "3.6.7"
  }
 },
 "nbformat": 4,
 "nbformat_minor": 2
}
