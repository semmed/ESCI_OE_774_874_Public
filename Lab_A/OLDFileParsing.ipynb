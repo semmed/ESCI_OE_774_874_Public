{
 "cells": [
  {
   "cell_type": "markdown",
   "metadata": {},
   "source": [
    "<img align=\"center\" width=\"12%\" style=\"padding-right:10px;\" src=\"../Images/Ccom.png\">"
   ]
  },
  {
   "cell_type": "markdown",
   "metadata": {},
   "source": [
    "# Lab A, Step 1: File Parsing"
   ]
  },
  {
   "cell_type": "code",
   "execution_count": 18,
   "metadata": {},
   "outputs": [
    {
     "name": "stdout",
     "output_type": "stream",
     "text": [
      "The autoreload extension is already loaded. To reload it, use:\n",
      "  %reload_ext autoreload\n"
     ]
    }
   ],
   "source": [
    "%load_ext autoreload\n",
    "%autoreload 2\n",
    "\n",
    "import sys\n",
    "import os\n",
    "import numpy as np\n",
    "\n",
    "sys.path.append(os.getcwd())  # add the current folder to the list of paths where Python looks for modules "
   ]
  },
  {
   "cell_type": "markdown",
   "metadata": {},
   "source": [
    "In this Notebook you will further develop classes for handling various ocean mapping data by adding a read method. \n",
    "\n",
    "To refresh your memory on reading **text files** please refer to the ePOM *Programming Basics with Python for Ocean Mapping* [Read and Write Text Files](../../python_basics/006_Read_and_Write_Text_Files.ipynb) notebook. Similarly for help with **classes** use the [A class as a Data Container](../../python_basics/008_A_Class_as_a_Data_Container.ipynb) notebook.\n",
    "\n",
    "Progressing through this notebook You will create the class definitions and keep adding **code** to it. Each class definition will be contained in a single code cell in a notebook that has the same name as the class. "
   ]
  },
  {
   "cell_type": "markdown",
   "metadata": {},
   "source": [
    "---\n",
    "___"
   ]
  },
  {
   "cell_type": "markdown",
   "metadata": {},
   "source": [
    "## 1.1 Time Series File Parsing\n"
   ]
  },
  {
   "cell_type": "markdown",
   "metadata": {},
   "source": [
    "---\n",
    "### 1.1.1 File Parsing Method Definition\n",
    "\n",
    "In the code cell below you see a method added to the WaterLevel `class`, this method provides the ability to parse a data file. So what happens here?\n"
   ]
  },
  {
   "cell_type": "code",
   "execution_count": 19,
   "metadata": {},
   "outputs": [],
   "source": [
    "import os.path\n",
    "from datetime import datetime, timezone\n",
    "\n",
    "class WaterLevel:\n",
    "    \"\"\"A Class for Water Level Data\"\"\"\n",
    "\n",
    "    def __init__(self):\n",
    "\n",
    "        ...\n",
    "\n",
    "    # The I/O methods:\n",
    "            \n",
    "            \n",
    "    def read_jhc_file(self, fullpath):\n",
    "\n",
    "        # Check the File's existence\n",
    "        if os.path.exists(fullpath):\n",
    "            self.metadata[\"Source File\"] = fullpath\n",
    "            print('Opening water level data file:' + fullpath)\n",
    "        else:  # Raise a meaningful error\n",
    "            raise RuntimeError('Unable to locate the input file' + fullpath)\n",
    "\n",
    "        # Open, read and close the file\n",
    "        wl_file = open(fullpath)\n",
    "        wl_content = wl_file.read()\n",
    "        wl_file.close\n",
    "\n",
    "        # Tokenize the contents\n",
    "        wl_lines = wl_content.splitlines()\n",
    "        count = 0  # initialize the counter for the number of rows read\n",
    "        for wl_line in wl_lines:\n",
    "            observations = wl_line.split()  # Tokenize the string\n",
    "            epoch=datetime.fromtimestamp(float(observations[5]), timezone.utc)\n",
    "            self.times.append(epoch)\n",
    "            self.water_levels.append(float(observations[6]))\n",
    "            count += 1"
   ]
  },
  {
   "cell_type": "markdown",
   "metadata": {},
   "source": [
    "___"
   ]
  },
  {
   "cell_type": "markdown",
   "metadata": {},
   "source": [
    "So what happens here?\n",
    "\n",
    "    def read_jhc_file(self, fullpath):\n",
    "    \n",
    "The line defines a method named **read_jhc_file** for the class **WaterLevel**. It takes the arguments *self*, a reference to the object of the class itself, and *fullpath* which we expect to contain a `string` holding the full path and file name of file containing water level data.\n",
    "\n",
    "    # Check the File's existence\n",
    "    if os.path.exists(fullpath):\n",
    "        print('Opening water level data file:' + fullpath)\n",
    "    else:  # Raise a meaningful error\n",
    "        raise RuntimeError('Unable to locate the input file' + fullpath)*\n",
    "\n",
    "These lines ensure that a file exists at the location provided by *fullpath*, if one does not exist a meaningful error message will be produced. The amount of checking that you do will depend on the purpose of the code. In the case of this class where we are creating some development code we will do relatively little checking leading to code that is not overly robust. Commercial software developers will need to produce code that is very robust i.e., they need to spend a lot of time evaluating the validity of the arguments passed to methods.\n",
    "\n",
    "    # Open, read and close the file\n",
    "    wl_file = open(fullpath)\n",
    "    wl_content = wl_file.read()\n",
    "    wl_file.close\n",
    "    \n",
    "In these lines a `file` located at *fullpath* is opened. The variable *wl_file* references this file. Again, this could be a location where we test the validity of the file to make the code more robust, but we will not do so. We read the contents of the file into the variable *wl_content*. It should be pointed out here that the data is contained in a **text** or **ASCII** file and that the variable will be of type `str`. After we have read the file all the contents are stored in *wl_content* and we may close the file.\n",
    "\n",
    "The contents of the file looked as follows\n",
    "\n",
    "        2011 124 03 30 00.00 1304479800.000 0.137\n",
    "        2011 124 03 36 00.00 1304480160.000 0.137\n",
    "        2011 124 03 42 00.00 1304480520.000 0.127\n",
    "        2011 124 03 48 00.00 1304480880.000 0.137\n",
    "        2011 124 03 54 00.00 1304481240.000 0.127\n",
    "        2011 124 04 00 00.00 1304481600.000 0.127\n",
    "        2011 124 04 06 00.00 1304481960.000 0.117\n",
    "        2011 124 04 12 00.00 1304482320.000 0.127\n",
    "        \n",
    "That is: the first columns represent the year, day number, hour, minute, second, UNIX time and water level respectively. Each row represents a single record. Therefore it makes sense to parse the file on record by record i.e., line by line basis. However, the variable wl_content holds the contents of the file in a single string; let's break up the file contents into lines i.e., records:        \n",
    "\n",
    "    # Tokenize the contents\n",
    "    wl_lines = wl_content.splitlines()\n",
    "    \n",
    "After this the records are now contained as strings in the `list` wl_lines. This helps as we can now address each record individually. However, each record is still represented by a single string.\n",
    "    \n",
    "    count = 0  # initialize the counter for the number of rows read\n",
    "    for wl_line in wl_lines:\n",
    "        observations = wl_line.split()  # Tokenize the string\n",
    "        epoch=datetime.fromtimestamp(float(observations[5]), timezone.utc)\n",
    "        self.times.append(epoch)\n",
    "        self.water_levels.append(float(observations[6]))\n",
    "        count += 1\n",
    "\n",
    "The code above breaks the strings into tokens, that is those parts of the string that are separated by a space character. After this the 6th column value is converted to an epoch by using:  \n",
    "    \n",
    "    datetime.fromtimestamp(float(observations[5]), timezone.utc)\n",
    "    \n",
    "Once this the epoch, that now conforms to the UTC time standard, is added to the list times variable times which is a member of the class. Finally:\n",
    "\n",
    "    self.water_levels.append(float(observations[6]))\n",
    "   \n",
    "Adds the water level for the record to the list **self.water_levels**. If we assume that the every record in the file is populated correctly then the result will be that the class now how a list of epochs with a corresponding list of water levels. \n",
    "\n"
   ]
  },
  {
   "cell_type": "markdown",
   "metadata": {},
   "source": [
    "<img align=\"left\" width=\"6%\" style=\"padding-right:10px;\" src=\"../Images/test.png\">\n",
    "\n",
    "On Piazza post a message in which you describe in your words what the result is from the line below:\n",
    "    \n",
    "    datetime.fromtimestamp(float(observations[5]), timezone.utc)\n",
    "    \n",
    "    \n",
    "\n",
    "<img align=\"left\" width=\"6%\" style=\"padding-right:10px;\" src=\"../Images/test.png\">\n",
    "\n",
    "Also on Piazza discuss whether you think that having two separate lists for the water levels and epochs is better/worse/indifferent than using a single numpy array with the rows indicating the records and the columns the times and levels respectively."
   ]
  },
  {
   "cell_type": "markdown",
   "metadata": {},
   "source": [
    "---\n",
    "### 1.1.2 Create a Class instance "
   ]
  },
  {
   "cell_type": "code",
   "execution_count": 20,
   "metadata": {},
   "outputs": [
    {
     "name": "stdout",
     "output_type": "stream",
     "text": [
      "Location name          : Unknown\n",
      "Reference Surface Type : geoid\n",
      "Reference Surafce Name : EGM08\n",
      "Observation Time Basis : UTC\n",
      "Observations Units     : m\n",
      "No time data present\n",
      "No water level data present\n",
      "\n"
     ]
    }
   ],
   "source": [
    "from mycode.waterlevel import WaterLevel\n",
    "abs_path=os.path.abspath(os.path.curdir)+\"/Data/\"\n",
    "\n",
    "water_levels = WaterLevel()\n",
    "water_levels.metadata[\"datum_type\"]=\"geoid\"\n",
    "water_levels.metadata[\"datum_name\"]=\"EGM08\"\n",
    "\n",
    "print(water_levels)"
   ]
  },
  {
   "cell_type": "markdown",
   "metadata": {},
   "source": [
    "    abs_path=os.path.abspath(os.path.curdir)+\"/Data/\"\n",
    "    \n",
    "The code snippet above sets the absolute path to point to the *Data* directory in the current directory \n",
    "\n",
    "<img align=\"left\" width=\"6%\" style=\"padding-right:10px;\" src=\"../Images/test.png\">\n",
    "\n",
    "Also in the code cell above create an instance of the `WaterLevel` class called *water_levels*. For the `metadata` set the datum_type to \"geoid\" and the datum_name to \"EGM08\"."
   ]
  },
  {
   "cell_type": "code",
   "execution_count": 21,
   "metadata": {},
   "outputs": [
    {
     "name": "stdout",
     "output_type": "stream",
     "text": [
      "Opening water level data file:/home/jupyter-semme/ESCI_OE_774_874/Lab_A/Data/Lab_A_TIDE.txt\n"
     ]
    }
   ],
   "source": [
    "water_levels.read_jhc_file(abs_path+\"Lab_A_TIDE.txt\")"
   ]
  },
  {
   "cell_type": "markdown",
   "metadata": {},
   "source": [
    "In the code cell above a file named **Lab_A_TIDE.txt** is opened and read"
   ]
  },
  {
   "cell_type": "markdown",
   "metadata": {},
   "source": [
    "___"
   ]
  },
  {
   "cell_type": "markdown",
   "metadata": {},
   "source": [
    "### 1.1.3 Creating a Parser for Positioning data\n"
   ]
  },
  {
   "cell_type": "code",
   "execution_count": null,
   "metadata": {},
   "outputs": [],
   "source": [
    "<img align=\"left\" width=\"5%\" style=\"padding-right:10px;\" src=\"../../python_basics/images/email.png\">\n",
    "\n",
    "*For issues or suggestions related to this notebook, write to: epom@ccom.unh.edu*"
   ]
  }
 ],
 "metadata": {
  "kernelspec": {
   "display_name": "Python 3",
   "language": "python",
   "name": "python3"
  },
  "language_info": {
   "codemirror_mode": {
    "name": "ipython",
    "version": 3
   },
   "file_extension": ".py",
   "mimetype": "text/x-python",
   "name": "python",
   "nbconvert_exporter": "python",
   "pygments_lexer": "ipython3",
   "version": "3.6.7"
  }
 },
 "nbformat": 4,
 "nbformat_minor": 2
}
