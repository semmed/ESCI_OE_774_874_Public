{
 "cells": [
  {
   "cell_type": "markdown",
   "metadata": {},
   "source": [
    "<img align=\"center\" width=\"12%\" style=\"padding-right:10px;\" src=\"../Images/Ccom.png\">"
   ]
  },
  {
   "cell_type": "markdown",
   "metadata": {},
   "source": [
    "# Integrated Seabed Mapping Systems <a href=\"https://piazza.com/class/jzvaaav18cf2j7\"><img src=\"../Images/help.png\"  title=\"Ask questions on Piazza.com\" align=\"right\" width=\"10%\" alt=\"Piazza.com\\\"></a><br><br> Lab A: Integration (Fall 2019)\n",
    "\n",
    "\n"
   ]
  },
  {
   "cell_type": "markdown",
   "metadata": {},
   "source": [
    "***"
   ]
  },
  {
   "cell_type": "markdown",
   "metadata": {},
   "source": [
    "## Integration of Data Streams\n",
    "\n",
    "For this lab you will navigate the transmitter and receiver of a multibeam for the case of a (near) vertically oriented beam. This special case may be treated as a (narrow beam) single beam echo sounder through ignoring the array-relative angles of transmission and reception. The amount of work needed for this lab is significant and the lab is therefore broken-up in several steps. You will do some programming for all of the steps, and at the end will be asked some questions about the results.\n",
    "\n",
    "This first step requires the integration of position data from a point source sensor (either a GNSS receiver for a surface platform or an acoustic transponder for a submerged vehicle), and measures of the instantaneous orientation of the vessel reference frame at transmission and reception of the acoustic signal.\n",
    "\n",
    "However, the sensors acquiring the three sets of observations (sonar-relative range, position and orientation) are not co-located. Thus you must allow for the **lever arms** between the sensors. For example, here the relative Vessel Rererence Frame (**VRF**) offsets of the transmitter, receiver and GPS antenna are provided. For this lab we will assume that the orientation time series represents the VRF (thus ignoring the Motion Reference Unit (**MRU**) to VRF misalignment), and that the heave solution is provided for the Reference Point (**RP**), which is the origin of the VRF.\n",
    "\n",
    "The sensors used for the collection of the data are **asynchronous** that is: they do not collect data at the exact same times, thus you will need to resample the data. You will do this through linear interpolation."
   ]
  },
  {
   "cell_type": "markdown",
   "metadata": {},
   "source": [
    "***"
   ]
  },
  {
   "cell_type": "markdown",
   "metadata": {},
   "source": [
    "## Overview\n",
    "\n",
    "\n",
    "### The Data\n",
    "\n",
    "The data provided here were collected by the USNS Henson, a 100m long **hydrographic** survey vessel. It operates an EM710 multibeam which is mounted in a gondola about 7m below the water line. It uses a POS/MV 320 for orientation. The available Ellipsoid referencing is from a NavCom (C-Nav) receiver generating 1Hz RTG heights from the masthead.\n",
    "\n",
    "The vessel was operating in approximately 100 m of water in open ocean conditions in the Western Pacific. The data is from a half hour period when the vessel was steaming at about 12 **knots** and undertook a 180 degree turn.\n",
    "\n",
    "Ellipsoid heights have already been converted to Geoid heights using EMG08.\n",
    "\n",
    "The data streams that you will integrate consist of \n",
    "1. Motion (**roll, pitch, heading, heave**) at 100 Hz\n",
    "2. Antenna positions as **geodetic** latitudes and longitudes, and **orthometric heights**\n",
    "3. **Single beam Echosounder** Two Way Travel Times (TWTTs) at ~3Hz\n",
    "\n",
    "### The Tasks\n",
    "To determine the depths a number of steps need to be undertaken\n",
    "1. Create classes for handling and plotting the data\n",
    "2. Integrate the data by synchronizing the data streams through re-sampling and applying the necesarry **transformations**\n",
    " 1. Calculate the horizontal positions of the sonar **transducers** and **vessel refererence point (rp)** \n",
    " 2. Calculate the vertical trajectory of the sonar **transducers** and **vessel refererence point** \n",
    " 3. Calculte the bottom profile (**bathymetry**)\n",
    " 4. Compare the vertical trajectory to the collected **heave** data \n",
    "\n",
    "In this lab you will position the sonar sensors installed on a vessel. The positioning of the sonar sensors will be achieved using position and orientation data obtained from ancillary sensors. Although a **multibeam** sonar was used for the collection of this data you are only given the TWTTs for the beam pointing straight down i.e., the data is akin to the collected by a traditional single beam echosounder.\n",
    "\n",
    "You will create depth profiles by combining the sonar positions with two way travel times. The data provided here is from a vessel with large **lever arms** undergoing approximately 1-2 m of heave and\n",
    "significant roll and pitch in the open ocean. \n",
    "\n",
    "The terrain over which the data was obtained is remarkably flat without any short wavelength **roughness**. Thus the resulting seabed profile should be smooth. As will be seen, the sonar relative ranges vary significantly as a result of the vessel vertical motions.\n",
    "\n",
    "You will see that the sonar relative ranges vary significantly as a result of the vessel vertical motions.\n",
    "The aim of the lab is to **reduce** those sonar relative ranges using the supplied position and orientation. \n",
    "\n",
    "Normally, one of two vertical referencing approaches is used:\n",
    "\n",
    "1. **Ellipsoid** Referenced – ERS,\n",
    "2. **Chart Datum** Referenced - CRS\n",
    "\n",
    "Usually the final data will be reported with respect to a Chart Datum (**CRS** referenced data), which is a reference surface below which the water level will rarely fall. In most applications this reference is determined through water level observations. In near and off-shore applications such datums are often referred to as **tidal datums** as the bulk of the longer term water level movement is due to tides.  \n",
    "\n",
    "Positioning is done relative to a model of the Earth. Normally a biaxial ellipsoidal is used to model the earth  in which the semi-major axis describes the radius of the equator and the semi-minor axis defines the distance from the equatorial plane to the poles. You will learn more about this subject in the Geodesy course.\n",
    "\n",
    "### Using CRS\n",
    "\n",
    "Historically it was much more difficult to establish height above the ellipsoid (vertical position by **elevation**) than to establish the position along its surface (horizontal position by **geodetic latitude and longitude**). Thus often vessels were positioned by latitude and longitude using a positioning system. The vertical location was then estimated by combining water level observations at a tide gauge with an estimation of the draft of the vessel. \n",
    "\n",
    "A problem that occurs is that the sea state at the gauge and the vessel are different. This is addressed by filtering out the wave action at the gauge and observing  the vertical motions of the vessel due to sea state (**heave**). These heave measurements then need to be applied to the sensor observations.\n",
    "\n",
    "Another problem that occurs is that the entire vessel will move up and down in the water as a function of the speed with which it moves through the water, a phenomenon known as **settlement**. Also its bow will either pitch up or down, a phenomenon known as **squat**. To correct the sensor observations it is then necessary to create a model of the settlement and squat as a function of speed through the water.\n",
    "\n",
    "To correctly position the sonar transducers it was thus necessary to\n",
    "1. Observe water levels at a tide gauge and transfer the observations to your location using some model\n",
    "2. Observe speed through water using a **log** (device that measures speed though water) and estimate the resultant vertical motion through some settlement and squat model\n",
    "3. Observe the heave and apply it to the observed data\n",
    "4. Correct the observed data for the vertical motion induced through roll, pitch and yaw\n",
    "\n",
    "### Using ERS\n",
    "\n",
    "With the advent of positioning using **Global Navigation Satellite Sytems (GNSS)** such as GPS (USA), GLONASS (Russia), Beidou (China), Galileo (Eurpoean Union), IRNSS (India) and QZSS (Japan) it has become possible to directly estimate height above the ellipsoid with sufficient precision. This has obviated the need for observing many of the parameters other than the motion of the vessel, thereby greatly simplifying and enhancing the quality of positioning at sea. However, we still do need to correct for the motion of the vessel.\n",
    "\n",
    "Note that if the depth data are to be referenced to a chart datum a model needs to be available to map the ellipsoid referenced data to chart datum. If such a model is not available water level data needs to be collected to enable the creation of one. However, this does not have to occur at the same time as depth data collection.\n",
    "\n",
    "\n",
    "### Using GRS\n",
    "\n",
    "In this case we will reference the data to the EGM2008 **geoid**. Much like a reference ellipsoid a geoid is a model of the Earth, however, a far more complex one. A geoid is a model of an equipotential gravity surface whose potential is chosen so that it most closely fits Mean Sea Level (**MSL**). A fundamental property of a geoid is then that it is aligned everywhere to the local horizon plane (You will learn more about geoids in the Geodesy course).\n",
    "\n",
    "Reference ellipsoids are usually defined so that they most closely resemble a geoid model. Differences between MSL and geoids typically range on the order of a few meters, whereas differences between ellipsoids and their associated geoids may range up to hundreds of meters.\n",
    "\n",
    "The difference in height between a geoid and ellipsoid are known as undulations. In the case of the EGM2008 geoid there are well established undulations between it and the **WGS84** ellipsoid used by the Navstar Global Positioning System (**GPS**)\n",
    "\n",
    "For simplicity, this lab does not entail the datum shift aspects required for CRS solution, merely reduction of the array-relative ranges to the geoid using geodetic elevation solutions of the GNSS antenna. \n",
    "\n",
    "In this lab you will create code that integrates asynchronous data to create a series of depth values referenced to the EGM 08 **Geoid**\n"
   ]
  },
  {
   "cell_type": "markdown",
   "metadata": {},
   "source": [
    "***"
   ]
  },
  {
   "cell_type": "markdown",
   "metadata": {},
   "source": [
    "<img align=\"left\" width=\"6%\" style=\"padding-right:10px;\" src=\"../Images/info.png\"> \n",
    "## Lab Implementation in Python\n",
    "\n",
    "This lab assumes a basic familiarity with Python at the level reached upon completion of the ePOM [**Programming Basics with Python for Ocean Mapping**](../../python_basics) set of notebooks. Over the ensuing steps of this lab exercise additional Python programming skills will be needed that will be addressed in the ePOM  [**Foundations of Ocean Data Science**](../../ocean_data_science) set of notebooks.\n",
    "\n",
    "If you are already well versed in programming with Python you are free to move through the steps ahead of when they are assigned.\n",
    "\n",
    "As part of the labs in this course you will be developing Python classes that may be used in other courses as well.\n",
    "\n",
    "The goal is not too develop the most elegant and/or efficient code possible, but to have you write code that helps you achieve the learning objectives of the labs.\n",
    "\n",
    "Note that you are free to design your own code in Python or another language. If you decide to do so you have to demonstrate ***equivalency*** of the deliverables. Also, we will be happy to support any coding questions for those following the (Python) instructions provided here, but can not provide the same level of service for those using different algorithms and/or programming languages."
   ]
  },
  {
   "cell_type": "markdown",
   "metadata": {},
   "source": [
    "***"
   ]
  },
  {
   "cell_type": "markdown",
   "metadata": {},
   "source": [
    "\n",
    "# Step 0: Creating Classes\n",
    "\n",
    "In this step you will create a number of classes that can hold data and associated metadata. \n",
    "\n",
    "**0.** `Vessel`: an object of this class will be used to represent a vessel and indicate the locations where the various sensors are housed. <br>\n",
    "**1.** `WaterLevel`: to hold data from a water level sensor (typically at a location at some distance from the a vessel) <br>\n",
    "**3.** `Position`: to hold data from a positioning system\n",
    "\n",
    "In the next step we will have you add the following classes - we will not have a lab session for this so make sure that you ask questions on Piazza if you are having trouble.\n",
    "\n",
    "\n",
    "4. `EchoSounderData`: to hold the data collected using an echosounder \n",
    "5. `Motion Data` to hold data collected using a `Motion Reference Unit` (**MRU**)\n",
    "6. `SSP`: to hold Sound Speed Profile data \n",
    "7. `Integration`: An object of this class will be used to convert the observed TWTTs into depth observations using the data contained in the other data classes.\n",
    "\n",
    "After completion of this step `objects` of these class types will not do much yet. You will complete the implementation of them over the next few weeks. At this point you will only create the class definitions and their data attributes. However, there is one exception, the `Vessel` class, which is the first class you will define and create an object of."
   ]
  },
  {
   "cell_type": "markdown",
   "metadata": {},
   "source": [
    "***"
   ]
  },
  {
   "cell_type": "markdown",
   "metadata": {},
   "source": [
    "## 0.0 Creating the Class `Vessel`"
   ]
  },
  {
   "cell_type": "markdown",
   "metadata": {},
   "source": [
    "<img align=\"left\" width=\"6%\" style=\"padding-right:10px;\" src=\"../Images/key.png\">\n",
    "\n",
    "In this step you will create a class `Vessel` that primarily acts as a data container. You will be asked to write the code for your `Vessel` class in a separate `.py` file. **This is different from the approach adopted in [*Programming Basics for Python* notebooks](../../python_basics) where all the code is written in the notebook itself!**. However, it is consistent with the approach taken in the ePOM [*Foundations of Ocean Data Science*](../../ocean_data_science) set of notebooks; the steps taken in this notebook are analog to the steps taken in the [Object-Oriented Programming](../../ocean_data_science/OOP_000_First_Steps_of_a_Class.ipynb) notebook.   \n",
    "\n",
    "The following code cell performs two preliminary required operations:\n",
    "\n",
    "- Load the autoreload extension to avoid to have to manually reload the classes when changes are applied.\n",
    "- import the sys and os and numpy packages\n",
    "- Instruct Python (using sys.path.append()) to look in the code folder for local Python modules.\n",
    "\n"
   ]
  },
  {
   "cell_type": "code",
   "execution_count": 3,
   "metadata": {},
   "outputs": [],
   "source": [
    "%load_ext autoreload\n",
    "%autoreload 2\n",
    "\n",
    "import sys\n",
    "import os\n",
    "import numpy as np\n",
    "\n",
    "sys.path.append(os.getcwd())  # add the current folder to the list of paths where Python looks for modules "
   ]
  },
  {
   "cell_type": "markdown",
   "metadata": {},
   "source": [
    "Similarly to what is described in the [*Class Definition*](../python_basics/008_A_Class_as_a_Data_Container.ipynb#Class-Definition) notebook, we start by creating a class definition. In this case, the class will be named `Vessel` and will have a `\"\"\"A Class for Vessel Data\"\"\"` docstring."
   ]
  },
  {
   "cell_type": "markdown",
   "metadata": {},
   "source": [
    "<img align=\"left\" width=\"6%\" style=\"padding-right:10px;\" src=\"../Images/test.png\">\n",
    "\n",
    "Modify the empty `Vessel.py` file located in the `mycode` folder to successfully execute the code in the code cell below.\n",
    "\n",
    "The print statement should result in the string: `The object type is <class 'mycode.vessel.Vessel'>`\n"
   ]
  },
  {
   "cell_type": "code",
   "execution_count": 4,
   "metadata": {},
   "outputs": [
    {
     "name": "stdout",
     "output_type": "stream",
     "text": [
      "The object type is <class 'mycode.vessel.Vessel'>\n"
     ]
    }
   ],
   "source": [
    "from mycode.vessel import Vessel\n",
    "\n",
    "vessel = Vessel()\n",
    "print(\"The object type is %s\" % (type(vessel)))"
   ]
  },
  {
   "cell_type": "markdown",
   "metadata": {},
   "source": [
    "***"
   ]
  },
  {
   "cell_type": "markdown",
   "metadata": {},
   "source": [
    "## 0.1 Class Initialization and Attributes"
   ]
  },
  {
   "cell_type": "markdown",
   "metadata": {},
   "source": [
    "### 0.1.0 Metadata descriptive of the survey\n",
    "\n",
    "As mentioned previously the data provided here was collected by the USNS Henson. In this case we want to add metadata that is descriptive of the vessel and its configuration. Metadata is generally not data that can be derived from the data contained in a class, but is descriptive of that data. In this case the data that we want to store in the class is the lever arms of the vessel relative to the center of gravity. The metadata should then include some data describing the vessel and also equipment is located at the location for which lever arms are supplied."
   ]
  },
  {
   "cell_type": "markdown",
   "metadata": {},
   "source": [
    "### Add the relevant metadata to the Vessel class\n",
    "You can now add a few attributes to the previously defined `Vessel` class:\n",
    "\n",
    "* A `metadata` dictionary with the following keys and values:\n",
    "  *  `\"name\"`: an empty string (as created by the str() method) representing the name of a vessel        \n",
    "  *  `\"owned_by\"`: an empty string representing the name of the owner of a vessel  \n",
    "  *  `\"operated_by\"`: an empty string representing the name of the operatpor of a vessel\n",
    "  *  `\"pos_source\"`: an empty str holding the positioning system(s) used\n",
    "  *  `\"sonar\"`: an empty str holding the sonar system(s) used\n",
    "  *  `\"mru\"`: an empty str holding the motion reference system(s) used\n",
    "  *  `\"dist_unit\"`: the string \"m\"\n",
    "  *  `\"loa\"`: an floating point value representing the **length=over-all** of the vessel\n",
    "\n",
    "\n",
    "As described in [*Class Initialization and Attributes*](../../python_basics/008_A_Class_as_a_Data_Container.ipynb#Class-Initialization-and-Attributes), the initialization of the class attributes happens in the *magic* `__init__(self)` method. "
   ]
  },
  {
   "cell_type": "markdown",
   "metadata": {},
   "source": [
    "If you did everything correct the code below will execute without errors"
   ]
  },
  {
   "cell_type": "code",
   "execution_count": 5,
   "metadata": {},
   "outputs": [
    {
     "name": "stdout",
     "output_type": "stream",
     "text": [
      "Vessel Name           : USNS Henson\n",
      "Owned by              : United States Navy\n",
      "Operated by           : United States Navy\n",
      "Length Over All       : 100m\n",
      "Positioned system     : NavCom (C-Nav)\n",
      "Sonar system          : Kongsberg EM710\n",
      "Motion Reference Unit : Applanix POS/MV 320\n",
      "\n"
     ]
    }
   ],
   "source": [
    "vessel.metadata[\"name\"]=\"USNS Henson\"\n",
    "vessel.metadata[\"owned_by\"]=\"United States Navy\"\n",
    "vessel.metadata[\"operated_by\"]=\"United States Navy\"\n",
    "vessel.metadata[\"pos_source\"]=\"NavCom (C-Nav)\"\n",
    "vessel.metadata[\"sonar\"]=\"Kongsberg EM710\"\n",
    "vessel.metadata[\"mru\"]=\"Applanix POS/MV 320\"\n",
    "vessel.metadata[\"loa\"]=100\n",
    "print(vessel)"
   ]
  },
  {
   "cell_type": "markdown",
   "metadata": {},
   "source": [
    "***"
   ]
  },
  {
   "cell_type": "markdown",
   "metadata": {},
   "source": [
    "### 0.1.1 The String Representation Method"
   ]
  },
  {
   "cell_type": "markdown",
   "metadata": {},
   "source": [
    "Even though there are now data contained in the object vessel of class Vessel, the print command did not show this. It will be helpful if the print statement would provide some information about the data contained in the  vessel object. We can do this by adding the `__string__` [representation method](../../ocean_data_science/OOP_000_First_Steps_of_a_Class.ipynb#The-String-Representation-Method)"
   ]
  },
  {
   "cell_type": "markdown",
   "metadata": {},
   "source": [
    "<img align=\"left\" width=\"6%\" style=\"padding-right:10px;\" src=\"../Images/key.png\">\n",
    "\n",
    "The `__str__(self)` method is called each time that you pass an object to the `print()` function."
   ]
  },
  {
   "cell_type": "markdown",
   "metadata": {},
   "source": [
    "<img align=\"left\" width=\"6%\" style=\"padding-right:10px;\" src=\"../Images/test.png\">\n",
    "\n",
    "Extend the `Vessel` class in the `vessel.py` file with a `__str__(self)` method that returns a `str` with all the `metadata` contained in the vessel object. Rerun the function cell above, the output should now be as follows:\n",
    "\n",
    "<img align=\"left\" width=\".40%\" style=\"padding-right:10px;\" src=\"../Images/vessel.png\">\n",
    "\n",
    "\n"
   ]
  },
  {
   "cell_type": "markdown",
   "metadata": {},
   "source": [
    "***"
   ]
  },
  {
   "cell_type": "markdown",
   "metadata": {},
   "source": [
    "### 0.1.2 Adding Other Attributes to the Class"
   ]
  },
  {
   "cell_type": "markdown",
   "metadata": {},
   "source": [
    "At this point the only data that we we need from an object of class vessel is the lever arms from the ship's reference point to the various sensors. We could at this point in time try to generate a very complex Vessel class that can handle many different kind of vessel configurations. However, this would make the class unnecessarily complex for our needs at this time.\n",
    "\n",
    "For now, we will make the assumption that a survey vessel has a sonar transmit and a receive array, a positioning system, and, a Motion Reference Unit (`MRU`). To successfully integrate the data from the sensors we need to know where these are located within the `VRF` i.e., we need a set of vectors to represent their locations. In ocean mapping we often refer to these vectors as lever arms. When programming in Python vectors are often handled by the array class in the `numpy` package. You will learn more about `numpy` in the  Foundations of Ocean Data Science [Intro to NumPy](../../COMP_000_Intro_to_NumPy.ipynb) notebook. "
   ]
  },
  {
   "cell_type": "markdown",
   "metadata": {},
   "source": [
    "To declare an empty `numpy` array and assign it the variable x you can use the statement x = np.array([])\n",
    "\n",
    "add the following attributes to the Vessel class\n",
    "\n",
    "* lever_arm_trans: the lever arm to the sonar transmit array as an empty array (use `self.lever_arm_trans =  np.array([])`)\n",
    "* lever_arm_rec: the lever arm to the sonar receive array \n",
    "* lever_arm_pos: the lever arm to the positioning system\n",
    "* lever_arm_mru: the lever arm to the `mru`\n",
    "* wl: the distance of the `VRF` above the waterline as a float\n",
    "    \n",
    "\n",
    "As described in [*Class Initialization and Attributes*](../../python_basics/008_A_Class_as_a_Data_Container.ipynb#Class-Initialization-and-Attributes), the initialization of the class attributes happens in the *magic* `__init__(self)` method. \n",
    "\n",
    "If you were successful the code cell below should execute without error:"
   ]
  },
  {
   "cell_type": "code",
   "execution_count": 6,
   "metadata": {},
   "outputs": [],
   "source": [
    "vessel.wl = -2.59\n",
    "vessel.lever_arm_trans = np.array([16.26, -1.75, 4.15]).reshape((3, 1))\n",
    "vessel.lever_arm_rec = np.array([14.82, -2.01, 4.17]).reshape((3, 1))\n",
    "vessel.lever_arm_pos = np.array([-5.73, -0.12, -30.00]).reshape((3, 1))\n",
    "vessel.lever_arm_mru = np.array([0, 0, 0]).reshape((3, 1))"
   ]
  },
  {
   "cell_type": "markdown",
   "metadata": {},
   "source": [
    "What happened in the code cell above?\n",
    "\n",
    "The statement `vessel.wl = -2.59` should be clear to you as it is similar to what you have seen so-far. \n",
    "\n",
    "The next four statements all assign an array three values, in the case of `vessel.lever_arm_trans` these are the values `[16.26, -1.75, 4.15]`. `16.26` is the x coordinate of the transducer lever-arm, `-1.75` the y coordinate, and, finally, `4.15` the z coordinate. The reshape method takes the array consistent of three elements and specifies it to be an array of dimension 3x1 i.e., a 3 element column vector."
   ]
  },
  {
   "cell_type": "markdown",
   "metadata": {},
   "source": [
    "***"
   ]
  },
  {
   "cell_type": "markdown",
   "metadata": {},
   "source": [
    "## 1.0 Creating the Class `Water Level`"
   ]
  },
  {
   "cell_type": "markdown",
   "metadata": {},
   "source": [
    "<img align=\"left\" width=\"6%\" style=\"padding-right:10px;\" src=\"../Images/key.png\">\n",
    "\n",
    "In this step you will create a class `WaterLevel` in a similar fashion to the `Vessel` class you just created. Note that this class closely resembles , but is not the same as, the `WaterLevel` class created in the  Foundations of Ocean Data Science [Object-Oriented Programming]() notebook. "
   ]
  },
  {
   "cell_type": "markdown",
   "metadata": {},
   "source": [
    "<img align=\"left\" width=\"6%\" style=\"padding-right:10px;\" src=\"../Images/test.png\">\n",
    "\n",
    "Modify the empty `waterlevel.py` file located in the `mycode` folder to successfully execute the code in the code cell below.\n",
    "\n",
    "The print statement should result in the string: `The object type is <class 'mycode.waterlevel.WaterLevel'>`\n"
   ]
  },
  {
   "cell_type": "code",
   "execution_count": 7,
   "metadata": {},
   "outputs": [
    {
     "name": "stdout",
     "output_type": "stream",
     "text": [
      "The object type is <class 'mycode.waterlevel.WaterLevel'>\n"
     ]
    }
   ],
   "source": [
    "from mycode.waterlevel import WaterLevel\n",
    "\n",
    "# Water level data\n",
    "water_levels = WaterLevel()\n",
    "print(\"The object type is %s\" % (type(water_levels)))"
   ]
  },
  {
   "cell_type": "markdown",
   "metadata": {},
   "source": [
    "***"
   ]
  },
  {
   "cell_type": "markdown",
   "metadata": {},
   "source": [
    "## 1.1 Class Initialization and Attributes"
   ]
  },
  {
   "cell_type": "markdown",
   "metadata": {},
   "source": [
    "We can now add a few attributes to the previously defined `WaterLevel` class:\n",
    "\n",
    "* Two lists (named `times` and `water_levels`, respectively\n",
    "* A string called `data_path`\n",
    "* A `metadata` dictionary with the following pairs of key and value:\n",
    "  *  `\"units\"`: `\"m\"` for the unit of measure of the water level values.\n",
    "  * `\"datum_type\"`: `None` for the `vertical datum` used for the water levels\n",
    "  * `\"datum_name\"`: `None` for the name of the vertical datum used for the water levels\n",
    "  * `\"time_base\"`: `\"UTC\"` The times are `Universal Time Coordinated`\n",
    "  * `\"location_name\"`: \"Unknown\"\n",
    "\n",
    "As described in [*Class Initialization and Attributes*](../python_basics/008_A_Class_as_a_Data_Container.ipynb#Class-Initialization-and-Attributes), the initialization of the class attributes happens in the *magic* `__init__(self)` method. "
   ]
  },
  {
   "cell_type": "markdown",
   "metadata": {},
   "source": [
    "<img align=\"left\" width=\"6%\" style=\"padding-right:10px;\" src=\"../Images/test.png\">\n",
    "\n",
    "Extend the `WaterLevel` class in the `waterlevel.py` file (located in the `mycode` folder) to successfully execute the following code. The outputs should be: `Data Path : `, `Times: [], []` and `Metadata: {'units': 'm', 'datum_type': None, 'datum_name': None, 'time_basis': 'UTC'}`\n"
   ]
  },
  {
   "cell_type": "code",
   "execution_count": 8,
   "metadata": {},
   "outputs": [
    {
     "name": "stdout",
     "output_type": "stream",
     "text": [
      "Data Path : \n",
      "Times     : [], []\n",
      "Metadata  : {'units': 'm', 'datum_type': None, 'datum_name': None, 'time_basis': 'UTC', 'location_name': 'Unknown'}\n"
     ]
    }
   ],
   "source": [
    "water_levels = WaterLevel()\n",
    "print(\"Data Path : %s\" %  water_levels.data_path)\n",
    "print(\"Times     : %s, %s\" % (water_levels.times, water_levels.water_levels))\n",
    "print(\"Metadata  : %s\" % (water_levels.metadata))"
   ]
  },
  {
   "cell_type": "markdown",
   "metadata": {},
   "source": [
    "Add the metadata values for the class. The `datum_type` is \"geoid\" and the `datum_name` should be `EGM08`. This tells anyone wanting to use the water levels contained in the object are **orthometric** heights relative to the `EGM08` geoid."
   ]
  },
  {
   "cell_type": "code",
   "execution_count": 9,
   "metadata": {},
   "outputs": [],
   "source": [
    "#############\n",
    "water_levels.metadata[\"datum_type\"]=\"geoid\"\n",
    "water_levels.metadata[\"datum_name\"]=\"EGM08\""
   ]
  },
  {
   "cell_type": "markdown",
   "metadata": {},
   "source": [
    "## 1.2 The String Representation Method"
   ]
  },
  {
   "cell_type": "markdown",
   "metadata": {},
   "source": [
    "Create a `__str__(self)` method for the `WaterLevel` class in similar fashion as the one you created for the Vessel class. We also want to print the start and end time and the minimum and maximum recorded water level. However, at this point there is no data yet. If you try to print the start time you would get an error, as the lis `water_levels.times` is currently still empty. To get around this you must make the printing of the time and water level data conditional upon data being present. To do this for the minimum and maximum water levels use:\n",
    "\n",
    "        `# The code fragment below assumes that there is some string called txt\n",
    "         if len(self.water_levels):\n",
    "            txt += \"Minimum Water Level    : %.2f%s\\n\" % (min(self.water_levels), self.metadata[\"units\"])           \n",
    "            txt += \"Maximum Water Level    : %.2f%s\\n\" % (max(self.water_levels), self.metadata[\"units\"])\n",
    "         else:\n",
    "            txt += \"No water level data present`    "
   ]
  },
  {
   "cell_type": "code",
   "execution_count": 10,
   "metadata": {},
   "outputs": [
    {
     "name": "stdout",
     "output_type": "stream",
     "text": [
      "Location name          : Unknown\n",
      "Reference Surface Type : geoid\n",
      "Reference Surafce Name : EGM08\n",
      "Observation Time Basis : UTC\n",
      "Observations Units     : m\n",
      "No time data present\n",
      "No water level data present\n",
      "\n"
     ]
    }
   ],
   "source": [
    "print(water_levels)"
   ]
  },
  {
   "cell_type": "markdown",
   "metadata": {},
   "source": [
    "Executing the code cell above should now result in:\n",
    "\n",
    "<img align=\"left\" width=\".40%\" style=\"padding-right:10px;\" src=\"../Images/WaterLevel.PNG\">"
   ]
  },
  {
   "cell_type": "markdown",
   "metadata": {},
   "source": [
    "***"
   ]
  },
  {
   "cell_type": "markdown",
   "metadata": {},
   "source": [
    "## 2.0 Creating the Class `Position`"
   ]
  },
  {
   "cell_type": "markdown",
   "metadata": {},
   "source": [
    "<img align=\"left\" width=\"6%\" style=\"padding-right:10px;\" src=\"../Images/key.png\">\n",
    "\n",
    "In this step you will create a class `Position` in a similar fashion to the `WaterLevel` class you just created. "
   ]
  },
  {
   "cell_type": "markdown",
   "metadata": {},
   "source": [
    "<img align=\"left\" width=\"6%\" style=\"padding-right:10px;\" src=\"../Images/test.png\">\n",
    "\n",
    "Modify the empty `position.py` file located in the `mycode` folder to successfully execute the code in the code cell below.\n",
    "\n",
    "The print statement should result in the string: `The object type is <class 'mycode.position.Position'>`"
   ]
  },
  {
   "cell_type": "code",
   "execution_count": 11,
   "metadata": {},
   "outputs": [
    {
     "name": "stdout",
     "output_type": "stream",
     "text": [
      "The object type is <class 'mycode.position.Position'>\n"
     ]
    }
   ],
   "source": [
    "from mycode.position import Position\n",
    "\n",
    "# positions\n",
    "pos = Position()\n",
    "print(\"The object type is %s\" % (type(pos)))"
   ]
  },
  {
   "cell_type": "markdown",
   "metadata": {},
   "source": [
    "***"
   ]
  },
  {
   "cell_type": "markdown",
   "metadata": {},
   "source": [
    "## 2.1 Class Initialization and Attributes"
   ]
  },
  {
   "cell_type": "markdown",
   "metadata": {},
   "source": [
    "We can now add a few attributes to the previously defined `Position` class:\n",
    "\n",
    "* Four lists (named `times`, `latitudes`, `latitudes` and `heights` respectively\n",
    "* A string called `data_path`\n",
    "* a numpy array called proj_pos\n",
    "* A `metadata` dictionary with the following pairs of key and value:\n",
    "  * `\"geodetic_units\"`: `\"rad\"` for the unit the geodetic latitudes and longitudes\n",
    "  * `\"height_units\"`: `\"m\"` for the units of elevations\n",
    "  * `\"proj_units\"`: `\"m\"` for the units of projected coordinates\n",
    "  * `\"geoid_name\"`: `None` For the name of the geoid used\n",
    "  * `\"ellipsoid_name\"`: `None` For the name of the ellipsoid used\n",
    "  * `\"height_relative_to\"`: `None` For the name of the vertical datum used\n",
    "  * `\"time_basis\"`: `\"UTC\"` The times are `Universal Time Coordinated`\n",
    "  * `\"proj_str\"`: '\"Unknown\"' For the string used for projecting coordinates\n",
    "\n",
    "As described in [*Class Initialization and Attributes*](../python_basics/008_A_Class_as_a_Data_Container.ipynb#Class-Initialization-and-Attributes), the initialization of the class attributes happens in the *magic* `__init__(self)` method. "
   ]
  },
  {
   "cell_type": "markdown",
   "metadata": {},
   "source": [
    "## 2.2 The String Representation Method"
   ]
  },
  {
   "cell_type": "markdown",
   "metadata": {},
   "source": [
    "Create a __str__(self) method for the Position class in similar fashion as the one you created for the Water Level class. We also want to print the start and end time and the geographic area covered. However, just like for the Water Level class, at this point there are no data yet. To get around this you must make the printing of the time and positioning data conditional upon data being present. "
   ]
  },
  {
   "cell_type": "markdown",
   "metadata": {},
   "source": [
    "***\n",
    "\n",
    "# 3 Piazza\n",
    "\n",
    "On Piazza post a message discussing an aspect of how the ePOM Programming Basics with Python has guided you with this assignment. Feel free to address both the positive aspects as well as where you think we could better prepare you for the work in this course. "
   ]
  },
  {
   "cell_type": "markdown",
   "metadata": {},
   "source": [
    "<img align=\"left\" width=\"6%\" style=\"padding-right:10px; padding-top:10px;\" src=\"../Images/refs.png\">\n",
    "\n",
    "## Useful References"
   ]
  },
  {
   "cell_type": "markdown",
   "metadata": {},
   "source": [
    "* [The official Python 3.6 documentation](https://docs.python.org/3.6/index.html)\n",
    "  * [Classes](https://docs.python.org/3.6/tutorial/classes.html)\n",
    "  * [String Representation Method](https://docs.python.org/3.6/reference/datamodel.html?highlight=repr#object.__str__)\n",
    "* [Memory address](https://en.wikipedia.org/wiki/Memory_address)\n",
    "* [ePOM: Programming Basics with Python](https://github.com/hydroffice/python_basics)\n",
    "* [ePOM: Foundations of Ocean Data Science](../../ocean_data_science)\n"
   ]
  },
  {
   "cell_type": "markdown",
   "metadata": {},
   "source": [
    "<img align=\"left\" width=\"5%\" style=\"padding-right:10px;\" src=\"../Images/email.png\">\n",
    "\n",
    "*For issues or suggestions related to this notebook that should not be addressed on Piazza, write to: semmed@ccom.unh.edu*"
   ]
  },
  {
   "cell_type": "markdown",
   "metadata": {},
   "source": [
    "Lab A Created by John E. Hughes Clarke<br>\n",
    "Python code and Notebook implementation by Semme J. Dijkstra"
   ]
  }
 ],
 "metadata": {
  "kernelspec": {
   "display_name": "Python 3",
   "language": "python",
   "name": "python3"
  },
  "language_info": {
   "codemirror_mode": {
    "name": "ipython",
    "version": 3
   },
   "file_extension": ".py",
   "mimetype": "text/x-python",
   "name": "python",
   "nbconvert_exporter": "python",
   "pygments_lexer": "ipython3",
   "version": "3.6.7"
  }
 },
 "nbformat": 4,
 "nbformat_minor": 2
}
