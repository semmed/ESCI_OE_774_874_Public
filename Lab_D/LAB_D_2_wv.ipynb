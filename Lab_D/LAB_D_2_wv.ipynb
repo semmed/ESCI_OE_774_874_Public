{
 "cells": [
  {
   "cell_type": "markdown",
   "metadata": {},
   "source": [
    "<img align=\"center\" width=\"12%\" style=\"padding-right:10px;\" src=\"../Images/Ccom.png\">"
   ]
  },
  {
   "cell_type": "markdown",
   "metadata": {},
   "source": [
    "# Integrated Seabed Mapping Systems <a href=\"https://teams.microsoft.com/l/channel/19%3af7b302e1f5b84615a207b9e579d62166%40thread.tacv2/Lab%2520D?groupId=81cb9921-c02d-4e3d-b4d7-9ef6985e82b1&tenantId=d6241893-512d-46dc-8d2b-be47e25f5666\"><img src=\"../Images/help.png\"  title=\"Ask questions on Teams\" align=\"right\" width=\"10%\" ></a><br><br>  Lab D: Performance Envelope"
   ]
  },
  {
   "cell_type": "markdown",
   "metadata": {},
   "source": [
    "In lab D 1 we saw that we need a reference system based on the epoch `t_Tx`. \n",
    "\n",
    "<img align=\"center\" width=\"80%\" style=\"padding-right:10px;\" src=\"../Images/virt_array_pos.jpg\">\n",
    "\n",
    "The virtual array is constructed at the mid point between the Tx location on transmit, and the Rx location on receive. At any single time, the two arrays are actually offset as they cannot be installed at the same place on the hull. Additionally, as these are two separate times, the translation of the entire vessel between those two times should be accounted for.\n",
    "\n",
    "In real time, as the final navigation solution is not yet available, the convention is to have the stored location of the bottom strike referenced in a coordinate system that is relative to a fixed point in the vessel (the RP not the sonar) as it was at a specific epoch ( almost always the Tx time). That coordinate system is oriented in a local level plane that is aligned along and across the vessel. This is fit for purpose when editing swath data as one normally views the solutions in across track coordinates. That way one can see the shape of successive profiles and perform editing based on their continuity (coherence). Many of the artifacts present in swath data are oriented across the swath (e.g. refraction biases, wobbles), or in the along-track.\n",
    "\n",
    "For this lab, you will locate the Rx and Tx relative to the RP at that instant using lever arms and instantaneous orientation observations. To account for the along track movement of the RP, the vessel speed and azimuth at that time can be used (and knowing the twtt~ 0.23 seconds). Additionally there will be a small azimuth rotation of the SRF between the two epochs"
   ]
  },
  {
   "cell_type": "code",
   "execution_count": 1,
   "metadata": {},
   "outputs": [],
   "source": [
    "# ## You may use this to turn a notebook into a function - if you uncomment \n",
    "# ## the lines below the notebook Lab_D_1.ipynb will be exported as a function\n",
    "# ## Note that the funtion originally created a script, thus the confusing name - you may change this \n",
    "\n",
    "# import os\n",
    "# import sys\n",
    "# from pathlib import Path\n",
    "# lab_a=Path('../Lab_A/') # Get the path to your Lab_A folder\n",
    "# sys.path.append(str(lab_a.resolve())) # add the Lab_A folder to the list of paths \n",
    "# from mycode.notebook_to_script import notebook_to_script\n",
    "# notebook_to_script('Lab_D_1.ipynb')\n",
    "\n",
    "pass"
   ]
  },
  {
   "cell_type": "code",
   "execution_count": 10,
   "metadata": {},
   "outputs": [
    {
     "ename": "ModuleNotFoundError",
     "evalue": "No module named 'mycode.ping'",
     "output_type": "error",
     "traceback": [
      "\u001b[0;31m---------------------------------------------------------------------------\u001b[0m",
      "\u001b[0;31mModuleNotFoundError\u001b[0m                       Traceback (most recent call last)",
      "\u001b[0;32m<ipython-input-10-ef8a58ab16dd>\u001b[0m in \u001b[0;36m<module>\u001b[0;34m\u001b[0m\n\u001b[1;32m      8\u001b[0m \u001b[0msys\u001b[0m\u001b[0;34m.\u001b[0m\u001b[0mpath\u001b[0m\u001b[0;34m.\u001b[0m\u001b[0mappend\u001b[0m\u001b[0;34m(\u001b[0m\u001b[0mstr\u001b[0m\u001b[0;34m(\u001b[0m\u001b[0mlab_a\u001b[0m\u001b[0;34m.\u001b[0m\u001b[0mresolve\u001b[0m\u001b[0;34m(\u001b[0m\u001b[0;34m)\u001b[0m\u001b[0;34m)\u001b[0m\u001b[0;34m)\u001b[0m \u001b[0;31m# add the Lab_A folder to the list of paths\u001b[0m\u001b[0;34m\u001b[0m\u001b[0;34m\u001b[0m\u001b[0m\n\u001b[1;32m      9\u001b[0m \u001b[0;34m\u001b[0m\u001b[0m\n\u001b[0;32m---> 10\u001b[0;31m \u001b[0;32mfrom\u001b[0m \u001b[0mmycode\u001b[0m\u001b[0;34m.\u001b[0m\u001b[0mping\u001b[0m \u001b[0;32mimport\u001b[0m \u001b[0mPing\u001b[0m\u001b[0;34m\u001b[0m\u001b[0;34m\u001b[0m\u001b[0m\n\u001b[0m\u001b[1;32m     11\u001b[0m \u001b[0;32mfrom\u001b[0m \u001b[0mmycode\u001b[0m\u001b[0;34m.\u001b[0m\u001b[0mposition\u001b[0m \u001b[0;32mimport\u001b[0m \u001b[0mPosition\u001b[0m\u001b[0;34m\u001b[0m\u001b[0;34m\u001b[0m\u001b[0m\n\u001b[1;32m     12\u001b[0m \u001b[0;32mfrom\u001b[0m \u001b[0mmycode\u001b[0m\u001b[0;34m.\u001b[0m\u001b[0mvessel\u001b[0m \u001b[0;32mimport\u001b[0m \u001b[0mVessel\u001b[0m\u001b[0;34m\u001b[0m\u001b[0;34m\u001b[0m\u001b[0m\n",
      "\u001b[0;31mModuleNotFoundError\u001b[0m: No module named 'mycode.ping'"
     ]
    }
   ],
   "source": [
    "%load_ext autoreload\n",
    "%autoreload 2\n",
    "\n",
    "import os\n",
    "import sys\n",
    "from pathlib import Path\n",
    "lab_a=Path('../Lab_A/') # Get the path to your Lab_A folder\n",
    "sys.path.append(str(lab_a.resolve())) # add the Lab_A folder to the list of paths \n",
    "\n",
    "from mycode.ping import Ping\n",
    "from mycode.position import Position\n",
    "from mycode.vessel import Vessel\n",
    "from mycode.SSP import SSP\n",
    "from mycode.Motion import Motion\n",
    "from datetime import datetime, timezone, timedelta\n",
    "from pathlib import Path\n",
    "import os\n",
    "import sys\n",
    "import gsw\n",
    "import scipy.ndimage\n",
    "import matplotlib.pyplot as plt\n",
    "from numpy import pi, sin, cos, log, log10, exp, nan, arctan2\n",
    "import numpy as np\n",
    "\n",
    "\n",
    "# The classes and data needed are in the lab A mycode and Data folders respectively\n",
    "\n",
    "lab_a=Path('../Lab_A/') # Get the path to your Lab_A folder\n",
    "sys.path.append(str(lab_a.resolve())) # add the Lab_A folder to the list of paths \n",
    "\n",
    "# Get the data path\n",
    "abs_path = os.path.abspath(os.path.curdir)\n",
    "\n",
    "\n",
    "\n",
    "# By default represent numbers in numpy arrays with four decimals\n",
    "np.set_printoptions(formatter={'all':lambda x: ' '+str('%.4f'%x)})\n",
    "\n",
    "\n",
    "# Execute the previous step code\n",
    "# The classes and data needed are in the lab A mycode and Data folders respectively\n",
    "\n",
    "lab_a=Path('../Lab_A/') # Get the path to your Lab_A folder\n",
    "sys.path.append(str(lab_a.resolve())) # add the Lab_A folder to the list of paths \n",
    "\n",
    "# Get the data path\n",
    "abs_path = os.path.abspath(os.path.curdir)\n",
    "\n",
    "# import of your own classes\n",
    "\n",
    "\n",
    "# By default represent numbers in numpy arrays with four decimals\n",
    "np.set_printoptions(formatter={'all':lambda x: ' '+str('%.4f'%x)})\n",
    "\n",
    "# We need a Vessel class object to store the metadata and geometric data descriptive of the vessel\n",
    "\n",
    "vessel = Vessel()\n",
    "\n",
    "# The transmit transducer\n",
    "vessel.lever_arm_trans = np.array([16.26, -1.75,   4.15]).reshape((3, 1))\n",
    "\n",
    "# The receive transducer\n",
    "vessel.lever_arm_rec = np.array([14.82, -2.01,   4.17]).reshape((3, 1))\n",
    "\n",
    "#The Positioning System\n",
    "vessel.lever_arm_pos = np.array([-5.73, -0.12, -30.00]).reshape((3, 1))\n",
    "\n",
    "# The Motion Reference Unit\n",
    "vessel.lever_arm_mru = np.array([0, 0, 0]).reshape((3, 1))\n",
    "vessel.wl = -2.59\n",
    "\n",
    "vessel.metadata[\"name\"]=\"USNS Henson\"\n",
    "vessel.metadata[\"owned_by\"]=\"United States Navy\"\n",
    "vessel.metadata[\"operated_by\"]=\"United States Navy\"\n",
    "vessel.metadata[\"pos_source\"]=\"NavCom (C-Nav)\"\n",
    "vessel.metadata[\"sonar\"]=\"Kongsberg EM710\"\n",
    "vessel.metadata[\"mru\"]=\"Applanix POS/MV 320\"\n",
    "vessel.metadata[\"loa\"]=100\n",
    "\n",
    "beam_n = 391\n",
    "# We need a Vessel class object to store the metadata and geometric data descriptive of the vessel\n",
    "\n",
    "\n",
    "# The transmit transducer\n",
    "vessel.bias_angles_trans = np.array([0.127*pi/180,1.024*pi/180,   359.957*pi/180]).reshape((3, 1))\n",
    "\n",
    "# The receive transducer\n",
    "vessel.bias_angles_rec = np.array([0.101*pi/180, 0.894*pi/180,   0.065*pi/180]).reshape((3, 1))\n",
    "# positions\n",
    "pos = Position()\n",
    "pos.read_jhc_file(str(lab_a)+'/Data/Lab_A_GNSS.txt')\n",
    "# make sure that there is Cartesian representation of the positions\n",
    "pos.carto_project('utm','ortho')\n",
    "\n",
    "# Motion data\n",
    "motions = Motion()\n",
    "motions.read_jhc_file(str(lab_a)+'/Data/Lab_A_MRU.txt')\n",
    "\n",
    "# Sound speed data\n",
    "sound_speed_profile = SSP()\n",
    "sound_speed_profile.read_jhc_file(str(lab_a)+'/Data/Lab_A_SVP.txt')\n",
    "ping = Ping()\n",
    "ping.read('Data/data_ping_4170.txt')\n",
    "\n",
    "\n",
    "# Get the index of the beam if interest and print its value\n",
    "b_index = ping.get_beam_index(beam_n)\n",
    "\n",
    "t_Tx = ping.tx_time + ping.tx_t_offset_beam[b_index]\n",
    "\n",
    "t_Rx = t_Tx + timedelta( seconds = ping.twtt[b_index])\n",
    "\n",
    "att_Tx = motions.get_motion(t_Tx)\n",
    "att_Rx = motions.get_motion(t_Rx)\n",
    "\n",
    "R_Tx = motions.get_rot_matrix(t_Tx)\n",
    "R_Rx = motions.get_rot_matrix(t_Rx)\n",
    "\n",
    "pos_Tx = pos.get_position(t_Tx)\n",
    "pos_Rx = pos.get_position(t_Rx)\n",
    "\n",
    "la_Tx = motions.geo_reference_la(t_Tx, vessel.lever_arm_pos)\n",
    "la_Rx = motions.geo_reference_la(t_Rx, vessel.lever_arm_pos)\n",
    "\n",
    "rp_Tx = motions.pos_to_rp(t_Tx, pos_Tx, vessel.lever_arm_pos)\n",
    "rp_Rx = motions.pos_to_rp(t_Rx, pos_Rx, vessel.lever_arm_pos)\n",
    "\n",
    "# Assumptions made:\n",
    "#     Projected coordinate system is fit for purpose \n",
    "#     We did not go through North in the interpolation of yaw\n",
    "#     The difference in direction between ellipsoidal height and orthometric height is negligible i.e.,\n",
    "#         deflections from the normal are insignificant\n",
    "\n",
    "\n",
    "\n"
   ]
  },
  {
   "cell_type": "markdown",
   "metadata": {},
   "source": [
    "---\n",
    "### D.2.0 Constructing the Virtual Array\n",
    "\n",
    "We saw in D.1 that we need to construct a virtual array referenced in a coordinate system that is relative to a fixed point in the vessel (the RP not the sonar) as it was at a specific epoch.That coordinate system is oriented in a local level plane that is aligned along and across the vessel.\n",
    "\n",
    "\n",
    "---\n",
    "### D.2.1 Determine Baseline Vector from `rp_Tx` to `rp_Rx`\n",
    "\n",
    "Determine the vector from `rp_Tx` to `rp_Rx` and name the result `base_vec_geo` - this will create a vector centered on the RP at Tx but aligned to the georeferenced frame. Ensure that the result is a 3x1 numpy array\n",
    "\n",
    "    ALERT: In real time we do not yet know the `rp_Rx`, we can either wait\n",
    "    until the next position is available (in the case of modern MRUs\n",
    "    typically less than 1/100 s later, or calculate the vector using speed\n",
    "    over ground and course over ground at transmit time and the TWTT that is\n",
    "    observed. The former method is more accurate and leads to an\n",
    "    imperceptible delay in the visualization of collected data"
   ]
  },
  {
   "cell_type": "code",
   "execution_count": 3,
   "metadata": {},
   "outputs": [],
   "source": [
    "# D.2.1 Determine Baseline Vector from `rp_Tx` to `rp_Rx`\n",
    "\n",
    "base_vec_geo = ..."
   ]
  },
  {
   "cell_type": "markdown",
   "metadata": {},
   "source": [
    "    base_vec_geo = [ -0.5131  -0.7875  -0.1114]"
   ]
  },
  {
   "cell_type": "markdown",
   "metadata": {},
   "source": [
    "---\n",
    "### D.2.2 Determine the Course over Ground\n",
    "\n",
    "Now determine the course over ground in radians between the two positions using this difference vector, remember to be cognizant of the quadrant! You may use the quadrant aware version of the numpy implementation for the arctangent\n"
   ]
  },
  {
   "cell_type": "code",
   "execution_count": 4,
   "metadata": {},
   "outputs": [],
   "source": [
    "# D.2.2 Determine the Course over Ground `cog` in radians\n",
    "\n",
    "# in python numpy arctan is the arc tangent - quadrant aware version is numpy.arctan2()\n",
    "cog = ..."
   ]
  },
  {
   "cell_type": "markdown",
   "metadata": {},
   "source": [
    "    cog = -2.5640669972959502"
   ]
  },
  {
   "cell_type": "markdown",
   "metadata": {},
   "source": [
    "---\n",
    "### D.2.3 Determine the Drift Angle\n",
    "\n",
    "Determine the **drift angle** `drift_angle_tx` at transmit, this is the difference between the course over ground and the heading.\n",
    "\n",
    "    Pet peeve alert (ignore if you like): often the drift angle is incorrectly referred to as the crab angle.\n",
    "    The crab angle is actually a course correction applied by the navigator to achieve the desired course \n",
    "    over ground! the Crab angle should therefore be in the opposite direction of the drift angle, but may be of a \n",
    "    different magnitude.\n",
    "    \n",
    "Make sure that $\\text{drift_angle} \\in[-\\pi,\\pi]$. Hint, make use of while loops"
   ]
  },
  {
   "cell_type": "code",
   "execution_count": 37,
   "metadata": {},
   "outputs": [],
   "source": [
    "### D.2.3 Determine the Drift Angle `drift_angle`\n",
    "\n",
    "drift_angle = ...\n",
    "\n",
    "# Constrain the drift angle to the range [-pi,pi]\n",
    "\n",
    "..."
   ]
  },
  {
   "cell_type": "markdown",
   "metadata": {},
   "source": [
    "    drift_angle = -0.03731543969317119"
   ]
  },
  {
   "cell_type": "markdown",
   "metadata": {},
   "source": [
    "---\n",
    "### D.2.4 Determine the Change in Heading\n",
    "\n",
    "Also calculate the change in heading $\\Delta \\theta$ as `head_delta` - this is the one that determines the new orientation wrt to the Tx epoch reference frame.\n",
    "\n",
    "As with `drift_angle` make sure that $\\text{head_delta} \\in[-\\pi,\\pi]$. "
   ]
  },
  {
   "cell_type": "code",
   "execution_count": 38,
   "metadata": {},
   "outputs": [],
   "source": [
    "### D.2.4 Determine the Change in Heading\n",
    "\n",
    "head_delta = ...\n",
    "\n",
    "# Constrain the change in heading to the range [-pi,pi]\n",
    "\n",
    "...\n"
   ]
  },
  {
   "cell_type": "code",
   "execution_count": null,
   "metadata": {},
   "outputs": [],
   "source": [
    "    head_delta = 0.006934786545932159"
   ]
  },
  {
   "cell_type": "markdown",
   "metadata": {},
   "source": [
    "---\n",
    "### D.2.5 Rotate the Baseline Vector from `rp_Tx` to `rp_Rx` in the new Coordinate System\n",
    "\n",
    "Rotate the difference vector to align with the new reference frame using your pick of the angles just determined.\n",
    "For this operation we need to retrieve just the rotation matrix for the z-axis.\n",
    "\n",
    "\n",
    "---\n",
    "#### D.2.5.1 Add Functions Rx, Ry, Rz and Px,Py, Pz\n",
    "\n",
    "In the file transform.py in the LabA/mycode folder and Add the *function* `Rx()` to it. This is a function NOT a method i.e., you do not have to create a class definition. The function should take an angle in radians as an argument and return the 3D roll rotation matrix for this angle i.e, the rotation around the x-axis. You may use the `Motion.get_rot_matrix()` as inspiration for the implementation of the rotation matrix.\n",
    "\n",
    "Similarly, add the *function* `Px()` to the `transform.py` file. The function should return a 3D reflection matrix that reflects the X coordinate.\n",
    "\n",
    "Also add the functions Ry, Py, Rz and Pz for rotations and reflections around the Y, and Z-axis respectively.\n",
    "\n",
    "#### D.2.5.2 Add the Function swap_xy()\n",
    "\n",
    "We often need to make the transformation from a global reference frame to a local reference frame in which the x and y axis are swapped e.g., when we transform from Easting, Northings and Up coordinates with an azimuth to Ship's reference frame with X positive forward, Y positive starboard and Z positive down (or in this case a transducer based reference frame that follows the same conventions).  Add the function `swap_xy` to the `transform.py` file to achieve this transformation. This should work for 1x3, 3x1, and 3 vectors"
   ]
  },
  {
   "cell_type": "code",
   "execution_count": 39,
   "metadata": {
    "scrolled": true
   },
   "outputs": [
    {
     "name": "stdout",
     "output_type": "stream",
     "text": [
      "[[ 0.5403  -0.8415  0.0000]\n",
      " [ 0.8415  0.5403  0.0000]\n",
      " [ 0.0000  0.0000  1.0000]]\n",
      "[[ 1.0000  0.0000  0.0000]\n",
      " [ 0.0000  1.0000  0.0000]\n",
      " [ 0.0000  0.0000  -1.0000]]\n",
      "[ 1.0000  2.0000  3.0000]\n",
      "[ 2.0000  1.0000  3.0000]\n",
      "(1, 3)\n",
      "[[ 1.0000  2.0000  3.0000]]\n",
      "[ 2.0000  1.0000  3.0000]\n",
      "(3, 1)\n",
      "[[ 2.0000]\n",
      " [ 1.0000]\n",
      " [ 3.0000]]\n"
     ]
    }
   ],
   "source": [
    "# Example\n",
    "\n",
    "from mycode.transform import Rz, Pz, Ry, Py, Rx, Px, swap_xy\n",
    "print( Rz(1))\n",
    "print(Pz())\n",
    "\n",
    "vec = np.array([1,2,3])\n",
    "print(vec)\n",
    "print( swap_xy(vec))\n",
    "vec = vec.reshape((1,3))\n",
    "print(vec.shape)\n",
    "print(vec)\n",
    "print( swap_xy(vec))\n",
    "vec = vec.reshape((3,1))\n",
    "print(vec.shape)\n",
    "print( swap_xy(vec))\n",
    "\n"
   ]
  },
  {
   "cell_type": "markdown",
   "metadata": {},
   "source": [
    "Example:\n",
    "\n",
    "    [[ 0.5403  -0.8415  0.0000]\n",
    "     [ 0.8415  0.5403  0.0000]\n",
    "     [ 0.0000  0.0000  1.0000]]\n",
    "    [[ 1.0000  0.0000  0.0000]\n",
    "     [ 0.0000  1.0000  0.0000]\n",
    "     [ 0.0000  0.0000  -1.0000]]\n",
    "    [ 1.0000  2.0000  3.0000]\n",
    "    [ 2.0000  1.0000  3.0000]\n",
    "    (1, 3)\n",
    "    [[ 1.0000  2.0000  3.0000]]\n",
    "    [ 2.0000  1.0000  3.0000]\n",
    "    (3, 1)\n",
    "    [[ 2.0000]\n",
    "     [ 1.0000]\n",
    "     [ 3.0000]]"
   ]
  },
  {
   "cell_type": "markdown",
   "metadata": {},
   "source": [
    "---\n",
    "#### D.2.5.3 Align Georeferenced Baseline Vector to align to the Reference frame\n",
    "\n",
    "Swap the x and y axis of the difference vector `base_vec_geo` and rotate it using the newly added function `Rz()` to align with the new reference frame and form the vector `base_vec_new` (Make sure that you understand what you just did!). Note that the y-coordinate should become close to 0 (you rotate BACK from the cog to 0!) and that the z axis is positive down.\n",
    "\n",
    "It is up to you to determine which angles should be used for the rotation. **I will start answering questions about this and all further steps no sooner than three days after the assignment is handed out. Feel free to discuss this on Teams - Drawing diagrams will be helpful**"
   ]
  },
  {
   "cell_type": "code",
   "execution_count": 1,
   "metadata": {},
   "outputs": [],
   "source": [
    "base_vec_new = ...\n"
   ]
  },
  {
   "cell_type": "markdown",
   "metadata": {},
   "source": [
    "    base_vec_new = [ 0.9393  -0.0351  0.1114]"
   ]
  },
  {
   "cell_type": "markdown",
   "metadata": {},
   "source": [
    "---\n",
    "### D.2.6 Determine the Rotated Transmit-Transducer Lever Arm\n",
    "\n",
    "Calculate the Rotated Transmit lever arm `lever_arm_tx` in the new coordinate system based on `vessel.lever_arm_trans`, we calculate this by applying roll and pitch rotations, but not heading as it is already aligned to the x direction."
   ]
  },
  {
   "cell_type": "code",
   "execution_count": 2,
   "metadata": {},
   "outputs": [],
   "source": [
    "lever_arm_tx = ..."
   ]
  },
  {
   "cell_type": "markdown",
   "metadata": {},
   "source": [
    "    lever_arm_tx = [[ 16.4017]\n",
    "                    [ -1.6718]\n",
    "                    [  3.5863]]\n"
   ]
  },
  {
   "cell_type": "markdown",
   "metadata": {},
   "source": [
    "---\n",
    "### D.2.7 Determine the Rotated and Translated Receive-Transducer Lever Arm\n",
    "\n",
    "Calculate the Rx lever arm `lever_arm_rx` in the new reference frame - conceptually it is easiest to think of this as a rotation and a translation. Rotate the receive lever arm `vessel.lever_arm_rec` by roll, pitch and the heading difference, then translate the Rx lever arm by the newly aligned difference vector `base_vec_new`. Note that to add the add `base_vec_new` you will need to make it a column vector (you may use the numpy `reshape` method for this). "
   ]
  },
  {
   "cell_type": "code",
   "execution_count": 3,
   "metadata": {},
   "outputs": [],
   "source": [
    "lever_arm_rx = ..."
   ]
  },
  {
   "cell_type": "markdown",
   "metadata": {},
   "source": [
    "    lever_arm_rx = [[ 15.9159]\n",
    "                    [ -1.8626]\n",
    "                    [  3.7752]]\n"
   ]
  },
  {
   "cell_type": "markdown",
   "metadata": {},
   "source": [
    "---\n",
    "### D.2.8 Determine the Location of the Virtual Array\n",
    "\n",
    "We now know the positions of the Tx transducer `lever_arm_tx` and Rx transducer `lever_arm_rx` in the reference frame defined for epoch `t_Tx` - we will position the virtual transducer `lever_arm_vx` as the average position of the two."
   ]
  },
  {
   "cell_type": "code",
   "execution_count": 4,
   "metadata": {},
   "outputs": [],
   "source": [
    "lever_arm_vx = ..."
   ]
  },
  {
   "cell_type": "markdown",
   "metadata": {},
   "source": [
    "    lever_arm_vx = [[ 16.1588]\n",
    "                    [ -1.7672]\n",
    "                    [  3.6808]]\n"
   ]
  },
  {
   "cell_type": "markdown",
   "metadata": {},
   "source": [
    "---\n",
    "### D.2.9 Position the Virtual Array Relative to  the Waterline\n",
    "\n",
    "Remember that `lever_arm_vx` is the location of the Virtual array wrt to the vessel reference frame at epoch `t_Tx`, we want to offset this by the distance of the waterline to the RP at transmit and receive time to be able to relate the virtual transducer positions in the water column (`lever_arm_vx_wl`). This vertical offset is the combination of the static draft and average heave, make sure to get the signs right!"
   ]
  },
  {
   "cell_type": "code",
   "execution_count": 5,
   "metadata": {},
   "outputs": [
    {
     "ename": "NameError",
     "evalue": "name 'np' is not defined",
     "output_type": "error",
     "traceback": [
      "\u001b[0;31m---------------------------------------------------------------------------\u001b[0m",
      "\u001b[0;31mNameError\u001b[0m                                 Traceback (most recent call last)",
      "\u001b[0;32m<ipython-input-5-954413ae2397>\u001b[0m in \u001b[0;36m<module>\u001b[0;34m\u001b[0m\n\u001b[0;32m----> 1\u001b[0;31m \u001b[0mlever_arm_vx_wl\u001b[0m \u001b[0;34m=\u001b[0m \u001b[0mnp\u001b[0m\u001b[0;34m.\u001b[0m\u001b[0mzeros\u001b[0m\u001b[0;34m(\u001b[0m\u001b[0;34m(\u001b[0m\u001b[0;36m3\u001b[0m\u001b[0;34m,\u001b[0m\u001b[0;36m1\u001b[0m\u001b[0;34m)\u001b[0m\u001b[0;34m)\u001b[0m\u001b[0;34m\u001b[0m\u001b[0;34m\u001b[0m\u001b[0m\n\u001b[0m\u001b[1;32m      2\u001b[0m \u001b[0mlever_arm_vx_wl\u001b[0m\u001b[0;34m[\u001b[0m\u001b[0;36m0\u001b[0m\u001b[0;34m:\u001b[0m\u001b[0;36m2\u001b[0m\u001b[0;34m,\u001b[0m\u001b[0;34m]\u001b[0m  \u001b[0;34m=\u001b[0m \u001b[0mlever_arm_vx\u001b[0m\u001b[0;34m[\u001b[0m\u001b[0;36m0\u001b[0m\u001b[0;34m:\u001b[0m\u001b[0;36m2\u001b[0m\u001b[0;34m,\u001b[0m\u001b[0;34m]\u001b[0m \u001b[0;31m#The horizontal position is unaffected\u001b[0m\u001b[0;34m\u001b[0m\u001b[0;34m\u001b[0m\u001b[0m\n\u001b[1;32m      3\u001b[0m \u001b[0mlever_arm_vx_wl\u001b[0m\u001b[0;34m[\u001b[0m\u001b[0;36m2\u001b[0m\u001b[0;34m,\u001b[0m\u001b[0;36m0\u001b[0m\u001b[0;34m]\u001b[0m \u001b[0;34m=\u001b[0m \u001b[0;34m...\u001b[0m\u001b[0;34m\u001b[0m\u001b[0;34m\u001b[0m\u001b[0m\n",
      "\u001b[0;31mNameError\u001b[0m: name 'np' is not defined"
     ]
    }
   ],
   "source": [
    "lever_arm_vx_wl = np.zeros((3,1))\n",
    "lever_arm_vx_wl[0:2,]  = lever_arm_vx[0:2,] #The horizontal position is unaffected\n",
    "lever_arm_vx_wl[2,0] = ..."
   ]
  },
  {
   "cell_type": "markdown",
   "metadata": {},
   "source": [
    "    lever_arm_vx_wl = [[ 16.1588]\n",
    "                       [ -1.7672]\n",
    "                       [  6.3597]]"
   ]
  }
 ],
 "metadata": {
  "kernelspec": {
   "display_name": "Python 3",
   "language": "python",
   "name": "python3"
  },
  "language_info": {
   "codemirror_mode": {
    "name": "ipython",
    "version": 3
   },
   "file_extension": ".py",
   "mimetype": "text/x-python",
   "name": "python",
   "nbconvert_exporter": "python",
   "pygments_lexer": "ipython3",
   "version": "3.6.10"
  }
 },
 "nbformat": 4,
 "nbformat_minor": 2
}
