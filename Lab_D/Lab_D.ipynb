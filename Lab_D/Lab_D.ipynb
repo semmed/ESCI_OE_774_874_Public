{
 "cells": [
  {
   "cell_type": "markdown",
   "metadata": {},
   "source": [
    "<img align=\"center\" width=\"12%\" style=\"padding-right:10px;\" src=\"../Images/Ccom.png\">"
   ]
  },
  {
   "cell_type": "markdown",
   "metadata": {},
   "source": [
    "# Integrated Seabed Mapping Systems <a href=\"https://teams.microsoft.com/l/channel/19%3af7b302e1f5b84615a207b9e579d62166%40thread.tacv2/Lab%2520D?groupId=81cb9921-c02d-4e3d-b4d7-9ef6985e82b1&tenantId=d6241893-512d-46dc-8d2b-be47e25f5666\"><img src=\"../Images/help.png\"  title=\"Ask questions on Teams\" align=\"right\" width=\"10%\" ></a><br><br>  Lab D: Orient and Ray Trace Beam"
   ]
  },
  {
   "cell_type": "markdown",
   "metadata": {},
   "source": [
    "___\n",
    "\n",
    "<img align=\"center\" width=\"80%\" style=\"padding-right:10px;\" src=\"../Images/ccom874_LAB_D_Oblique_Integration_2017.jpg\">\n",
    "\n",
    "This lab is designed for you now that you can navigate the Tx and Rc for each shot time as you did in lab A\n",
    "\n",
    "We are just going to take one transmission and, for the case of a single receiver beam:\n",
    "•A –work out where the beam vector was pointing (Azimuth, Depression).\n",
    "•B –work out where the beam at that TWTT actually hit the seafloor (in a local level, but ship’s head relative coordinate system).\n",
    "For this you need to do:\n",
    "•the Cone-Cone intersection Calculation(see separate worked example)\n",
    "\n",
    "And you need to perform a ray trace. "
   ]
  },
  {
   "cell_type": "code",
   "execution_count": 22,
   "metadata": {},
   "outputs": [
    {
     "name": "stdout",
     "output_type": "stream",
     "text": [
      "The autoreload extension is already loaded. To reload it, use:\n",
      "  %reload_ext autoreload\n"
     ]
    }
   ],
   "source": [
    "%load_ext autoreload\n",
    "%autoreload 2\n",
    "\n",
    "import numpy as np\n",
    "from numpy import pi, sin, cos, log, log10, exp, nan\n",
    "import matplotlib.pyplot as plt\n",
    "import scipy.ndimage\n",
    "import gsw\n",
    "import sys\n",
    "import os\n",
    "from pathlib import Path\n",
    "\n",
    "# The classes and data needed are in the lab A mycode and Data folders respectively\n",
    "\n",
    "lab_a=Path('../Lab_A/') # Get the path to your Lab_A folder\n",
    "sys.path.append(str(lab_a.resolve())) # add the Lab_A folder to the list of paths \n",
    "\n",
    "# Get the data path\n",
    "abs_path = os.path.abspath(os.path.curdir)\n",
    "\n",
    "# import of your own classes\n",
    "\n",
    "from mycode.Motion import Motion\n",
    "from mycode.SSP import SSP\n",
    "from mycode.vessel import Vessel\n",
    "from mycode.position import Position\n",
    "\n",
    "# By default represent numbers in numpy arrays with four decimals\n",
    "np.set_printoptions(formatter={'all':lambda x: ' '+str('%.8f'%x)})\n",
    "\n"
   ]
  },
  {
   "cell_type": "markdown",
   "metadata": {},
   "source": [
    "___\n",
    "## C.0 Initialization\n",
    "\n",
    "<img align=\"center\" width=\"80%\" style=\"padding-right:10px;\" src=\"../Images/Initialization Parameters.jpg\">\n",
    "\n",
    "\n",
    "Update the code cell below to enter the lever arms (Note that this is exactly as in Lab A)"
   ]
  },
  {
   "cell_type": "markdown",
   "metadata": {},
   "source": [
    "In Lab A we saw how to navigate the transducers, for this lab we will also need to see how they are oriented in space at the time of transmission and reception, in particular we want to determine the orientation of the long axes of the transducers with respect to which the beam steering will take place. In this case we will ignore the MRU (Motion Reference Unit) to SRF (Ship Reference Frame) misalignment. Also, we will consider that the heave solution is provided for the location of the Reference Point (RP)\n",
    "\n",
    "Add the variables `bias_angles_trans` and `bias_angles_rec` as `numpy` arrays to your Vessel class (in the `__init__` method). \n",
    "\n",
    "Finally add the variable `beam_n` which will hold the index of the beam assigned to you."
   ]
  },
  {
   "cell_type": "code",
   "execution_count": 23,
   "metadata": {},
   "outputs": [],
   "source": [
    "# We need a Vessel class object to store the metadata and geometric data descriptive of the vessel\n",
    "\n",
    "vessel = Vessel()\n",
    "\n",
    "# The transmit transducer\n",
    "vessel.lever_arm_trans = np.array([16.26, -1.75,   4.15]).reshape((3, 1))\n",
    "\n",
    "# The receive transducer\n",
    "vessel.lever_arm_rec = np.array([14.82, -2.01,   4.17]).reshape((3, 1))\n",
    "\n",
    "#The Positioning System\n",
    "vessel.lever_arm_pos = np.array([-5.73, -0.12, -30.00]).reshape((3, 1))\n",
    "\n",
    "# The Motion Reference Unit\n",
    "vessel.lever_arm_mru = np.array([0, 0, 0]).reshape((3, 1))\n",
    "vessel.wl = -2.59\n",
    "\n",
    "vessel.metadata[\"name\"]=\"USNS Henson\"\n",
    "vessel.metadata[\"owned_by\"]=\"United States Navy\"\n",
    "vessel.metadata[\"operated_by\"]=\"United States Navy\"\n",
    "vessel.metadata[\"pos_source\"]=\"NavCom (C-Nav)\"\n",
    "vessel.metadata[\"sonar\"]=\"Kongsberg EM710\"\n",
    "vessel.metadata[\"mru\"]=\"Applanix POS/MV 320\"\n",
    "vessel.metadata[\"loa\"]=100\n",
    "\n",
    "beam_n = 391"
   ]
  },
  {
   "cell_type": "markdown",
   "metadata": {},
   "source": [
    "Now add the roll, pitch and yaw biases in the same fashion as you added the offset parameters, i.e., the roll is associated to the x-axis, so should be the first, etc. Make sure to use angles in radians!"
   ]
  },
  {
   "cell_type": "code",
   "execution_count": 24,
   "metadata": {},
   "outputs": [],
   "source": [
    "# We need a Vessel class object to store the metadata and geometric data descriptive of the vessel\n",
    "\n",
    "\n",
    "# The transmit transducer\n",
    "vessel.bias_angles_rec = np.array([0.127*pi/180,...,...]).reshape((3, 1))\n",
    "\n",
    "# The receive transducer\n",
    "vessel.bias_angles_rec = ...\n"
   ]
  },
  {
   "cell_type": "markdown",
   "metadata": {},
   "source": [
    "___\n",
    "## 1 The Bottom Strike of One Beam of one Swath to Analyze\n",
    "\n",
    "<img align=\"center\" width=\"80%\" style=\"padding-right:10px;\" src=\"../Images/OneBeam.png\">\n",
    "\n",
    "This shows swath 4070 from this sample data set (the same data as Lab A). It was collected while the vessel was turning (although yaw stabilization was deliberately disabled). The system was operating in +/-60 deg sector using dual swath. This is just the first swath. The EM710 was operating in shallow mode using a 0.2ms pulse. (standard for < 100m of water).\n",
    "\n",
    "Each of the students in the class will be assigned a single (different) beam in the outer sector. For that beam, all the geometry of Tx. And Rc. will be established and the beam vector estimated. That beam vector should be reported in Azimuth and Depression angle.\n",
    "\n",
    "From the sonar depth a ray trace, using that vector and the TWTT will be undertaken. The beam azimuth used should be that with respect to the ships heading at transmit i.e. Azimuth, w.r.t north – heading at transmit.\n",
    "\n",
    "Finally knowing the radial distance and depth of the bottom detection relative to the sonar, the resulting bottom detection will be reported with respect to the RP (in meters along track and meters across track) and with respect to the sea surface, reduced for water level, heave, induced heave and sonar. \n",
    "\n",
    "This deliverable can be directly compared to the Kongsberg real time calculated value which is provided.\n",
    "\n",
    "### 1.0 Load the data\n",
    "\n",
    "The first step that we will take is to load the appropriate data. We will use the same data that was used in lab A i.e., the files `Lab_A_GNSS.txt`, `Lab_A_MRU.txt`"
   ]
  },
  {
   "cell_type": "markdown",
   "metadata": {},
   "source": [
    "___\n",
    "## 1 Calculating the Horizontal Location of the *Virtual Array*\n",
    "\n",
    "For this lab we will use a *virtual array* to represent the location of the combined transmit and receive arrays at the moment that the signal reflects of the bottom\n",
    "\n",
    "The virtual array is constructed at the mid point between the Tx (Transmit transducer) location on transmit, and the Rx (Receive transducer) location on receive. At any single time, the two arrays are actually offset as they cannot be installed at the same place on the hull. Additionally, as these are two separate times, the translation of the entire vessel between those two times should strictly be accounted for.\n",
    "\n",
    "In real time, as the final navigation solution is not yet available, the convention is to have the stored location of the bottom strike referenced in a coordinate system that is relative to a fixed point in the vessel as it was at a specific epoch (usually the transmit time). We use the RP (Reference Point) not the sonar for this purpose. That coordinate system is oriented in a local level plane that is aligned along and across the vessel. As an example of why this is practical,, when editing swath data, one normally views the solutions in across track coordinates, that way one can see the shape of successive profiles and perform editing based on their coherence. Many of the artifacts present in swath data are oriented across the swath (e.g. refraction biases, wobbles).\n",
    "\n",
    "For this lab, you will locate the Rx and Tx relative to the RP at that instant (using lever arms and instantaneous orientation). To account for the along track movement of the RP, the vessel speed and azimuth at that time can be used (and knowing the twtt~ 0.23 seconds). Additionally there will be a small azimuth rotation of the SRF between the two epochs.\n",
    "\n",
    "___\n",
    "### 1.0 Load the Auxilliary Data\n",
    "\n",
    "The first step that we will take is to load the appropriate data. We will use the same data that was used in the other labs A i.e., instantiate the objects `pos`, `motions`, and `sound_speed_profile` in the same manner as in labs A and B using the files `Lab_A_GNSS.txt`, `Lab_A_MRU.txt`, and `Lab_A_SVP.txt` respectively. Make sure to have a Cartesian representation of the coordinates, use a UTM projection for this purpose."
   ]
  },
  {
   "cell_type": "code",
   "execution_count": 25,
   "metadata": {},
   "outputs": [
    {
     "name": "stdout",
     "output_type": "stream",
     "text": [
      "Opening GNSS data file:../Lab_A/Data/Lab_A_GNSS.txt\n",
      "Opening motion data file:../Lab_A/Data/Lab_A_MRU.txt\n",
      "Opening sound speed profile data file:../Lab_A/Data/Lab_A_SVP.txt\n"
     ]
    }
   ],
   "source": [
    "# positions\n",
    "pos = Position()\n",
    "pos.read_jhc_file(str(lab_a)+'/Data/Lab_A_GNSS.txt')\n",
    "# make sure that there is Cartesian representation of the positions\n",
    "pos.carto_project('utm','ortho')\n",
    "\n",
    "# Motion data\n",
    "motions = ...\n",
    "motions.read_jhc_file...\n",
    "\n",
    "# Sound speed data\n",
    "sound_speed_profile = SSP()\n",
    "sound_speed_profile..."
   ]
  },
  {
   "cell_type": "markdown",
   "metadata": {},
   "source": [
    "___\n",
    "### 1.1 Load the Multi Beam EchoSounder (MBES ) Data\n",
    "\n",
    "\n",
    "\n",
    "\n",
    "#### Details on the specific multi-sector swath to be analyzed:\n",
    "\n",
    "The multibeam installed on the USNS Henson is an EM710 which operates using three sectors per swath and dual swath.\n",
    "\n",
    "#### Sector-Specific Transmit Steering\n",
    "\n",
    "We will examine the first swath of a dual swath cycle. Each of the three sectors can have different steering. For this particular case, where the yaw stabilization is turned off, the outermost sectors are steered with the same magnitude.\n",
    "\n",
    "<img align=\"center\" width=\"80%\" style=\"padding-right:10px;\" src=\"../Images/ping_data.jpg\">\n",
    "\n",
    "A single file `data_ping_4170.txt` is supplied which, together with the orientation and offsets, will allow you to do the full calculation.\n",
    "\n",
    "You may ask what information do you have on the transmit sector for the beam you chose?\n",
    "\n",
    "From the data telegram, there is lots of other information that is provided about each sector which we will read. However, the only things you will eventually need are:\n",
    "\n",
    "- the transmit steering angle \n",
    "- the time delay between the first sector firing and the one you have chosen.\n",
    "\n",
    "You will have been assigned one of the beams from the starboard sector (sector 2). Thus your actual time of transmission is the nominal time of the swath PLUS the extra delay while it waits for the other sectors to fire. For example, Sector 1 fired first (at the specified time). Sector 0 fires 0.4ms later and Sector 2 fires another 0.4ms after that (0.8ms w.r.t the central sector).\n",
    "\n",
    "<img align=\"center\" width=\"80%\" style=\"padding-right:10px;\" src=\"../Images/sector.jpg\">\n",
    "\n",
    "For your chosen sector, the two values you have to know are the transmit steering angle and the delay in firing that sector compared to the time the first sector fired.\n",
    "\n",
    "The other information should now be familiar to all based on the integrated seabed mapping systems course discussions of multi-sector operation and working in the near field.\n",
    "\n",
    "We will determine all needed values in the course of this lab.\n",
    "\n",
    "<img align=\"center\" width=\"80%\" style=\"padding-right:10px;\" src=\"../Images/ping_info.jpg\">\n",
    "\n",
    "Note that the final answer that you are working towards is contained in the file. In the file provided there are a list of ALL the 400 beams for a single swath. Starting at beam 0 (outermost on the port side) you can see the raw measurements (TWTT, Transmit steering, Receive steering and the transmit delay).\n",
    "\n",
    "For each you will also see the “answer” – the official Kongsberg real-time calculation of the beam bottom strike. This is reported in a horizontal coordinate system centred on the RP and oriented along the ships heading at the time of transmit. Thus one has along track values that are typically 15-16m as the sonars are 15-16m ahead of the RP, and the across track values range from -160 m (to port side) to +156 m (to starboard side).\n",
    "\n",
    "The resulting depths are not, however, from the RP; rather they are reported from the wave-free water surface. They are thus a combination of the depth below the transducer, the depth of the transducer (WLZ, heave, induced heave and Tx-Z in the SRF). You will note that they are ~ 97m with almost no variation acrossthe swath (a very-very flat seafloor).\n",
    "\n",
    "In the steps of this lab you will be assigned a beam from the outer starboard sector, and at the end will estimate the bottom detection location in this coordinate system. ***You are unlikely to get exactly the same answer (we are using slightly different assumptions than Kongsberg) but you should try to be within ~ 0.1m in all axes (0.1% of Z).***\n"
   ]
  },
  {
   "cell_type": "markdown",
   "metadata": {},
   "source": [
    "### 1.1.1 Create a Ping Class holding the 'Ping' Specific Data\n",
    "\n",
    "Here we will load the data provided by the MBES. We do not yet have a class and associated parser for this. Start by defining a `Ping` class in the file `ping.py` that you will create in the mycode directory for Lab_A. Add member variables to hold all the information contained within the file.\n",
    "\n",
    "The data contained in the file contains three sections, the first being general information for the ping - we will store them in the class objects in the following fashion:\n",
    "\n",
    "The elements of the first section are general to all the data for this ping\n",
    "    \n",
    "    - lat               - scalar holding the latitude in radians\n",
    "    - lon               - scalar holding the longitude in radians\n",
    "    - tx_roll           - scalar holding the tx roll in radians\n",
    "    - tx_pitch          - scalar holding the tx pitch in radians\n",
    "    - tx_heading        - scalar holding the tx heading in radians\n",
    "    - tx_heave          - scalar holding the tx heave in radians\n",
    "    - tx_time           - datetime object holding the time \n",
    "\n",
    "The elements of the second section describe the parameters for each transmit sector for this ping (really a combination of three pings in this case)\n",
    "\n",
    "    - tilt_angle        - numpy array holding the tilt angle for the transducer in radians\n",
    "    - focus_range       - numpy array holding the distance from the Tx trasnducer to the focal point in meters\n",
    "    - signal_length     - numpy array holding the duration of signal in seconds\n",
    "    - tx_time_offset    - numpy array holding the time offset of transmit from tx_time for each sector in seconds\n",
    "    - center_frequency  - numpy array holding the central frequency for each sector in Hz\n",
    "    - mean_absorp_coeff - numpy array holding the Absorption coefficient for each sector dB/km\n",
    "    - waveform_id       - numpy array holding thethe shape of the transmit pulse for each sector (integer)\n",
    "    - sector_id         - numpy array identifying each sector (integer)\n",
    "    \n",
    "The elements of the third section describe the properties associated to the bottom detect of each beam, Note that much of this info is repeated from the previous sections or derived from other available parameters. We will parse this data anyway, even though this is dangerous as the data may be inconsistent.\n",
    "\n",
    "    - beam              - numpy array holding the beam numbers (integer)\n",
    "    - across            - numpy array holding the across track distance to the bottom for each beam in meters\n",
    "    - along             - numpy array holding the along track distance to the bottom for each beam in meters\n",
    "    - depth             - numpy array holding the depth to the bottom for each beam in meters\n",
    "    - samp_nr           - numpy array holding the sample nr at which the bottom was found for each beam (integer) \n",
    "    - twtt              - numpy array holding the TWTT for each beam in seconds\n",
    "    - range             - numpy array holding the slant range for each beam in meters\n",
    "    - steer_rx          - numpy array holding the receive steering angle for each beam in radians\n",
    "    - sector            - numpy array holding the sector (integer)\n",
    "    - steer_tx          - numpy array holding the transmit steering angle for each beam in radians\n",
    "    - tx_t_offset_beam  - numpy array holding the delay from tx_time as a timedelta object\n",
    "    - ctr_freq_beam     - numpy array holding the central frequency for each beam in Hz\n",
    "\n",
    "Just to be clear, the above is the variable names that you should define in the `__init__` method for the `Ping` class. \n"
   ]
  },
  {
   "cell_type": "markdown",
   "metadata": {},
   "source": [
    "___\n",
    "### 1.1.2 Create a Read Method to Read the Ping Data\n",
    "\n",
    "Add a method named `read` to the class `Ping` you created. The method should take as an argument the data path to the ping data file. The method should populate all the data fields defined in the `__init__` method. It is up to you to interpret the data in the file using the provided information, assign the right data to the right variables, and to ensure that the desired units are used in the class objects (you may have to cast some of the units)\n"
   ]
  },
  {
   "cell_type": "code",
   "execution_count": 26,
   "metadata": {},
   "outputs": [
    {
     "ename": "NameError",
     "evalue": "name 'Ping' is not defined",
     "output_type": "error",
     "traceback": [
      "\u001b[0;31m---------------------------------------------------------------------------\u001b[0m",
      "\u001b[0;31mNameError\u001b[0m                                 Traceback (most recent call last)",
      "\u001b[0;32m<ipython-input-26-247d4d9a52e1>\u001b[0m in \u001b[0;36m<module>\u001b[0;34m\u001b[0m\n\u001b[0;32m----> 1\u001b[0;31m \u001b[0mping\u001b[0m \u001b[0;34m=\u001b[0m \u001b[0mPing\u001b[0m\u001b[0;34m(\u001b[0m\u001b[0;34m)\u001b[0m\u001b[0;34m\u001b[0m\u001b[0;34m\u001b[0m\u001b[0m\n\u001b[0m\u001b[1;32m      2\u001b[0m \u001b[0mping\u001b[0m\u001b[0;34m.\u001b[0m\u001b[0mread\u001b[0m\u001b[0;34m(\u001b[0m\u001b[0;34m'data_ping_4170.txt'\u001b[0m\u001b[0;34m)\u001b[0m\u001b[0;34m\u001b[0m\u001b[0;34m\u001b[0m\u001b[0m\n",
      "\u001b[0;31mNameError\u001b[0m: name 'Ping' is not defined"
     ]
    }
   ],
   "source": [
    "ping = Ping()\n",
    "ping.read('data_ping_4170.txt')"
   ]
  },
  {
   "cell_type": "markdown",
   "metadata": {},
   "source": [
    "___\n",
    "### 1.1.3 Sector Transmit Steering\n",
    "\n",
    "We are examining the first swath of a dual swath cycle. Each of the three sectors can have different steering. For this particular case, when the yaw stabilization is turned off, the outermost sectors are steered with the same magnitude\n",
    "\n",
    "#### 1.1.3.1 Explain why the central sector steering is different from the outer sectors?"
   ]
  },
  {
   "cell_type": "code",
   "execution_count": null,
   "metadata": {},
   "outputs": [],
   "source": [
    "ans_1_1_3_1 = \"Your answer here\""
   ]
  },
  {
   "cell_type": "code",
   "execution_count": null,
   "metadata": {},
   "outputs": [],
   "source": [
    "#### 1.1.3.2 Explain why the central sector steering is different from the outer sectors?"
   ]
  },
  {
   "cell_type": "code",
   "execution_count": null,
   "metadata": {},
   "outputs": [],
   "source": [
    "ans_1_1_3_2 = \"Your answer here\""
   ]
  },
  {
   "cell_type": "code",
   "execution_count": 8,
   "metadata": {},
   "outputs": [
    {
     "ename": "NameError",
     "evalue": "name 'none' is not defined",
     "output_type": "error",
     "traceback": [
      "\u001b[0;31m---------------------------------------------------------------------------\u001b[0m",
      "\u001b[0;31mNameError\u001b[0m                                 Traceback (most recent call last)",
      "\u001b[0;32m<ipython-input-8-f5a80ddeadd8>\u001b[0m in \u001b[0;36m<module>\u001b[0;34m\u001b[0m\n\u001b[1;32m      1\u001b[0m \u001b[0;32mfrom\u001b[0m \u001b[0mdatetime\u001b[0m \u001b[0;32mimport\u001b[0m \u001b[0mdatetime\u001b[0m\u001b[0;34m\u001b[0m\u001b[0;34m\u001b[0m\u001b[0m\n\u001b[0;32m----> 2\u001b[0;31m \u001b[0ma\u001b[0m \u001b[0;34m=\u001b[0m \u001b[0mdatetime\u001b[0m\u001b[0;34m(\u001b[0m\u001b[0mnone\u001b[0m\u001b[0;34m)\u001b[0m\u001b[0;34m\u001b[0m\u001b[0;34m\u001b[0m\u001b[0m\n\u001b[0m",
      "\u001b[0;31mNameError\u001b[0m: name 'none' is not defined"
     ]
    }
   ],
   "source": [
    "from datetime import datetime\n",
    "a = datetime(none)"
   ]
  },
  {
   "cell_type": "code",
   "execution_count": null,
   "metadata": {},
   "outputs": [],
   "source": []
  }
 ],
 "metadata": {
  "kernelspec": {
   "display_name": "Python 3",
   "language": "python",
   "name": "python3"
  },
  "language_info": {
   "codemirror_mode": {
    "name": "ipython",
    "version": 3
   },
   "file_extension": ".py",
   "mimetype": "text/x-python",
   "name": "python",
   "nbconvert_exporter": "python",
   "pygments_lexer": "ipython3",
   "version": "3.6.10"
  }
 },
 "nbformat": 4,
 "nbformat_minor": 2
}
