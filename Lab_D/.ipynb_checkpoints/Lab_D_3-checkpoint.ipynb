{
 "cells": [
  {
   "cell_type": "markdown",
   "metadata": {},
   "source": [
    "<img align=\"center\" width=\"12%\" style=\"padding-right:10px;\" src=\"../Images/Ccom.png\">"
   ]
  },
  {
   "cell_type": "markdown",
   "metadata": {},
   "source": [
    "# Integrated Seabed Mapping Systems <a href=\"https://teams.microsoft.com/l/channel/19%3af7b302e1f5b84615a207b9e579d62166%40thread.tacv2/Lab%2520D?groupId=81cb9921-c02d-4e3d-b4d7-9ef6985e82b1&tenantId=d6241893-512d-46dc-8d2b-be47e25f5666\"><img src=\"../Images/help.png\"  title=\"Ask questions on Teams\" align=\"right\" width=\"10%\" ></a><br><br>  Lab D Step 3: "
   ]
  },
  {
   "cell_type": "code",
   "execution_count": 1,
   "metadata": {},
   "outputs": [],
   "source": [
    "%load_ext autoreload\n",
    "%autoreload 2\n",
    "\n",
    "import os\n",
    "import sys\n",
    "from pathlib import Path\n",
    "lab_a=Path('../Lab_A/') # Get the path to your Lab_A folder\n",
    "sys.path.append(str(lab_a.resolve())) # add the Lab_A folder to the list of paths \n",
    "\n",
    "from mycode.transform import Rx, Ry, Rz\n",
    "from pathlib import Path\n",
    "import os\n",
    "import sys\n",
    "import gsw\n",
    "import scipy.ndimage\n",
    "import matplotlib.pyplot as plt\n",
    "from numpy import pi, sin, cos, log, log10, exp, nan, arctan2, arcsin, tan, sqrt, arctan\n",
    "import numpy as np\n",
    "\n",
    "\n",
    "\n",
    "\n"
   ]
  },
  {
   "cell_type": "markdown",
   "metadata": {},
   "source": [
    "<img align=\"center\" width=\"80%\" style=\"padding-right:10px;\" src=\"../Images/conecone.jpg\">\n",
    "\n",
    "We have seen that to obtain a location and orientation of the sonars (from which to calculate their sonar-relative beam vectors) we need to utilize asynchronous observations of position and orientation. They are both available on the vessel, but at different locations or orientations. To relate the two together, we needed to establish a ship reference frame.\n",
    "Within that reference frame we needed to establish the location and orientation of each sensor in turn. The net result is that we know the location of the transmit-transducer at the transmit epochs and the receive-transducer at the receive epochs."
   ]
  },
  {
   "cell_type": "markdown",
   "metadata": {},
   "source": [
    "----\n",
    "## Orienting the transmit-transducer at the transmit epochs and the receive-transducer at the receive epochs to establish the beam vectors\n",
    "\n",
    "Additionally (although only now being calculated in this lab), you can calculate the orientation of the long axis of the transmitter and receiver at those times. Recall that the steered beams are oriented around those long axes.\n",
    "Using those locations and orientations, the geometry of the transmit and receive cones can be calculated. The resulting beam vector is the intersection of those two cones. These notes explain in detail how to calculate that beam vector.\n"
   ]
  },
  {
   "cell_type": "markdown",
   "metadata": {},
   "source": [
    "----\n",
    "## The Separation of Shot and Receive\n",
    "\n",
    "<img align=\"center\" width=\"80%\" style=\"padding-right:10px;\" src=\"../Images/separation_shot_receive.jpg\">\n",
    "\n",
    "As there is a finite time between transmission and reception, both the position and the orientation of the array will change in that interval. That interval can typically range from ~1/10 of second (<75m ranges) to 10’s of seconds for deep water systems.\n",
    "\n",
    "If a single location value is to be used, the average of the transmitter position at transmit and receiver position at the average received TWTT can reasonably be used. Strictly though, over the reception cycle, the receiver does propagate forward. But at typical vessel speeds (~4m/s) the distance travelled, compared to the one way sound speed (750 m/s) is a very small fraction (0.5%) which is smaller than the beam footprint. For example, the projected beam width of a 0.5$^{\\circ}$ beam is 0.87% of Z (strictly slant range). Both these numbers are small compared to IHO Special Order horizontal accuracy requirements of 2m in 40m of water which corresponds to only 5% of Z.\n",
    "\n",
    "**Note** that this excludes the physical separation of the transmitter and receiver acoustic centres (normally at least ½ the physical array length). If bottom detection is attempted in the acoustic nearfield, that separation may be significantly larger than the forward propagation of the sonar over the ping cycle."
   ]
  },
  {
   "cell_type": "markdown",
   "metadata": {},
   "source": [
    "---\n",
    "## Equivalent Modeled Virtual Array\n",
    "\n",
    "<img align=\"center\" width=\"80%\" style=\"padding-right:10px;\" src=\"../Images/eq_model.jpg\">\n",
    "\n",
    "To calculate a single beam vector for the outgoing and incoming ray path, an equivalent array geometry needs to be defined in which the two acoustic centers are co-located.\n",
    "\n",
    "The figure above illustrates the modeled beam vector solution. A virtual array locatio , half way in X,Y and Z from the acoustic center at transmit and receive is calculated. The arrays, however, are no longer mutually orthogonal (even if the physically constructed arrays actually are). This is because time has elapsed.\n",
    "\n",
    "The virtual concentric array model, adopts the transmit orientation for the transmitter and the receive orientations for the receiver.\n"
   ]
  },
  {
   "cell_type": "markdown",
   "metadata": {},
   "source": [
    "---\n",
    "## The Intersection of Non-Orthogonal Cones \n",
    "\n",
    "<img align=\"center\" width=\"80%\" style=\"padding-right:10px;\" src=\"../Images/non_ortho_cones.jpg\">\n",
    "\n",
    "For a given epoch, the relative alignment of the transmitter and receiver is precisely known and is usually as close to orthogonal as possible. This is known as it is either machined in the factory for a small sonar or precisely as-placed surveyed after installation on the hull. While their relative alignment is known at a single time, the geometry of the Mills Cross used to estimate the formed beam vector cannot assume that same relative misalignment. At the time of the receive, the receiver will no longer share the same orientation as the transmitter at time of transmit.\n",
    "\n",
    "As a result, the beam vector has to modeled by calculating the intersection of non-orthogonal cones\n",
    "\n",
    "To calculate the resultant beam vector, one must know all of:\n",
    "    - the orientation of the transmitter long axis at Ttxand\n",
    "    - The orientation of the receiver long axis at Trcas well as\n",
    "    - the transit steering angle relative to the long axis of transmit array and\n",
    "    - The receiver steering angle (at the time of receive) relative to the long axis of the receiver array\n",
    "\n",
    "Each of the steering angles, relative to the long axis of the transmitter and receiver, depend on an assumption of the sound speed at the array. During acquisition, a specific surface sound speed value is used on which the element-specific time delays are based. Thus if there is any reason to reapply a different surface sound speed, all the array-relative steering angles have to be adjusted."
   ]
  },
  {
   "cell_type": "markdown",
   "metadata": {},
   "source": [
    "---\n",
    "## D.3.0 No Motion Ideal Orthogonal Case\n",
    " \n",
    "<img align=\"center\" width=\"80%\" style=\"padding-right:10px;\" src=\"../Images/ideal_ortho_case.jpg\">\n",
    "\n",
    "### Why colocation?\n",
    "\n",
    "We are concerned with establishing the point on the seafloor at which the conical maximum response axes of the transmitter and receiver intersect. In reality, the two cones will be distorted by refraction. If the two acoustic centres are not at the same location, then the refracted ray paths from each centre to the strike point will not be identical. However, if they are concentric, they will share the same distortion. Under this special circumstance, we can ignore the refraction and just deal with a single vector which represents the initial ray vector as it leave/returns to the Mills cross.\n",
    "\n",
    "Two cones from mutually orthogonal arrays, only intersect if the sum of the two steering angles is less than 90$^{\\circ}$. For the case of a multibeam, the transmitter steering is generally less than 5 degrees (up to 15 though if heavy yaw stabilization is utilized). Thus receiver steering angles of up to 85 (75 for a heavy yaw stabilization condition) are allowable.\n",
    "\n",
    "### Sign Conventions:\n",
    "\n",
    "Note the conventions used in the following calculations. The unit vector for the transmitter is 1,0,0 i.e., it is a vector pointing in the SRF forward or x-axis direction. The unit vector for the the receiver is 0,1,0 i.e., a vector pointing in the starboard or positive y-direction. Positive steering is defined as toward the principal vector orientation. Thus +ve forward for transmission, and positive starboard for reception. When unpacking third party sonar telegrams, the sign of the steering must be clarified as it is not a standard. Note that this differs from the right hand rule for the axis!\n",
    "\n",
    "Create the vectors `tx_ideal` and `rx_ideal` as column vectors i.e., 2-D np arrays of dimension 3x1."
   ]
  },
  {
   "cell_type": "code",
   "execution_count": 2,
   "metadata": {},
   "outputs": [
    {
     "name": "stdout",
     "output_type": "stream",
     "text": [
      "tx_ideal: \n",
      "[[1]\n",
      " [0]\n",
      " [0]]\n",
      "rx_ideal: \n",
      "[[0]\n",
      " [1]\n",
      " [0]]\n"
     ]
    }
   ],
   "source": [
    "## D.3.0 No Motion Ideal Orthogonal Case\n",
    "\n",
    "tx_ideal=...            # Tx steering vector for no steering\n",
    "rx_ideal=...            # Rx steering vector for no steering\n",
    "\n",
    "print('tx_ideal: ')\n",
    "print(tx_ideal)\n",
    "print('rx_ideal: ')\n",
    "print(rx_ideal)"
   ]
  },
  {
   "cell_type": "markdown",
   "metadata": {},
   "source": [
    "Example: \n",
    "\n",
    "    tx_ideal: \n",
    "    [[ 1.0000]\n",
    "     [ 0.0000]\n",
    "     [ 0.0000]]\n",
    "    rx_ideal: \n",
    "    [[ 0.0000]\n",
    "     [ 1.0000]\n",
    "     [ 0.0000]]"
   ]
  },
  {
   "cell_type": "markdown",
   "metadata": {},
   "source": [
    "---\n",
    "## D.3.0.0 Formula for Intersection of Orthogonal Arrays\n",
    " \n",
    "<img align=\"center\" width=\"80%\" style=\"padding-right:10px;\" src=\"../Images/ortho_concentric.jpg\">\n",
    "\n",
    "Under this simplest geometry, the resulting beam vector can easily be calculated. Note that the vector is strictly relative to the plane containing the two arrays with the X axis aligned along the transmitter. Due to the magnitude of the beam vector $\\overrightarrow{bv}$ being one ($||\\overrightarrow{bv}||=1$), the offset in the $XY$ plane in the $X$-axis direction is $\\sin(\\text{tx}_\\text{steer})$ and in the $Y$-axis is $\\sin(\\text{rx}_\\text{steer})$. The radial distance in this plane is then $\\rho_{xy}=\\sqrt{\\sin(\\text{tx}_\\text{steer})^2+\\sin(\\text{rx}_\\text{steer})}$ and thus the distance $\\rho_{z}$ orthogonal to this plane is $\\rho_{z}=\\sqrt{1-\\rho_{xy}^2}$. Therefore the unit beam vector becomes:\n",
    "\n",
    "$$bv=\\left[{\\begin{array}\\sin(\\text{tx}_\\text{steer}) \\\\ \\sin(\\text{rx}_\\text{steer}) \\\\ \\sqrt{1-\\rho_{xy}^2} }\\end{array}}\\right]$$\n",
    "\n",
    "$$ \\overrightarrow{bv}=\\left[ {\\begin{array}{cc}\\sin(\\text{tx}_\\text{steer}) \\\\\\sin(\\text{rx}_\\text{steer})\\\\\\sqrt{1-\\rho_{xy}^2}\\\\\\end{array} } \\right]$$\n",
    "\n",
    "Note that the $XY$ plane is that of the transducer array, not of the ship's reference plane (unless they are exactly aligned that is)"
   ]
  },
  {
   "cell_type": "markdown",
   "metadata": {},
   "source": [
    "---\n",
    "## D.3.0.1 Formula for Intersection of Non-Orthogonal Arrays\n",
    " \n",
    "<img align=\"center\" width=\"80%\" style=\"padding-right:10px;\" src=\"../Images/non_ortho_concentric.jpg\">\n",
    "\n",
    "As a small extension of the previous case, if the receiver is oriented at an angle away from 90 degrees to the transmitter, the formula is slightly different, but still easily calculated.\n",
    "\n",
    "This is the more general case that will be used in the following steps. The only requirement is to establish that non-orthogonal angle (NO).\n",
    "\n",
    "As with the previous example, the resulting beam vector is relative to the plane that contains the two arrays with the X-axis along the transmitter.\n",
    "\n",
    "The main aim of the following steps is to obtain the instantaneous orientation (relative to the local level and north (or ships head at transmit)) of the plane that contains the transmit and receiver arrays vector. For this we need to know the instantaneous orientation of the two arrays at transmit and receive times."
   ]
  },
  {
   "cell_type": "markdown",
   "metadata": {},
   "source": [
    "---\n",
    "## D.3.0.2 Resultant Beam Vector\n",
    " \n",
    "<img align=\"center\" width=\"80%\" style=\"padding-right:10px;\" src=\"../Images/result_bv.jpg\">\n",
    "\n",
    "### Azimuth and Depression angle of beam vector\n",
    "The end result of this calculation, will be to obtain the beam vector relative to the local level (depression angle) and either north or the ship’s head at transmit (azimuth).\n",
    "\n",
    "The depression angle (together with the array depth, TWTT and sound speed profile), will be used to undertake the ray trace calculation. This will all take place in a vertical plane oriented along the beam azimuth orientation.\n",
    "\n",
    "The ray trace solution will provide a depth solution that is located a radial distance out from the virtual array location in the direction of the beam azimuth. Ultimately, the location of the virtual array will have to be fixed in a geographic (or across-along referenced) coordinate system, to provide a final geo-referenced bottom detection.\n"
   ]
  },
  {
   "cell_type": "markdown",
   "metadata": {},
   "source": [
    "---\n",
    "## D.3.1 Align Transmit Array to Ship's Reference Frame\n",
    " \n",
    "<img align=\"center\" width=\"80%\" style=\"padding-right:10px;\" src=\"../Images/align_tx.jpg\">\n",
    "\n",
    "Starting with an ideal transmit vector `tx_ideal` of (1,0,0).\n",
    "Establishing the as-installed vector accounting for the transmit transducer mounting angles relative to the SRF. Let's evaluate an example where the mounting angles of the transmit array are contained in the column vector `ma_tx` as a 2D `np.array`. The transmit mount angles are a $2^{\\circ}$ yaw angle, a $3^{\\circ}$ pitch angle, and a $0^{\\circ}$ roll angle. **Note that the order of angles is reversed in the image above - this should be corrected**\n",
    "____\n",
    "### D.3.1.0 Create Alignment Vector"
   ]
  },
  {
   "cell_type": "code",
   "execution_count": 3,
   "metadata": {},
   "outputs": [
    {
     "name": "stdout",
     "output_type": "stream",
     "text": [
      "ma_tx: \n",
      "[[0.        ]\n",
      " [0.05235988]\n",
      " [0.03490659]]\n"
     ]
    }
   ],
   "source": [
    "### D.3.1.0 Create Alignment Vector\n",
    "\n",
    "ma_tx = ...\n",
    "\n",
    "print('ma_tx: ')\n",
    "print(ma_tx)"
   ]
  },
  {
   "cell_type": "markdown",
   "metadata": {},
   "source": [
    "Example: \n",
    "\n",
    "    ma_tx: \n",
    "    [[0.        ]\n",
    "     [0.05235988]\n",
    "     [0.03490659]]\n"
   ]
  },
  {
   "cell_type": "markdown",
   "metadata": {},
   "source": [
    "____\n",
    "### D.3.1.1 Create Transmit Mount Vector\n",
    "\n",
    "Now create the transmit vector `tx_mount` by rotating `tx_ideal` using the transmit mount alignment vector - beware the order of the rotations which is reversed from the equation shown in the figure above!"
   ]
  },
  {
   "cell_type": "code",
   "execution_count": 4,
   "metadata": {},
   "outputs": [
    {
     "name": "stdout",
     "output_type": "stream",
     "text": [
      "tx_mount: \n",
      "[[array([0.9980212])]\n",
      " [array([0.03485167])]\n",
      " [array([-0.05233596])]]\n"
     ]
    }
   ],
   "source": [
    "### D.3.1.1 Create Transmit Mount Vector\n",
    "\n",
    "tx_mount = ...\n",
    "\n",
    "print('tx_mount: ')\n",
    "print(tx_mount)"
   ]
  },
  {
   "cell_type": "markdown",
   "metadata": {},
   "source": [
    "Example: \n",
    "\n",
    "    tx_mount: \n",
    "    [[array([0.9980212])]\n",
    "     [array([0.03485167])]\n",
    "     [array([-0.05233596])]]\n"
   ]
  },
  {
   "cell_type": "markdown",
   "metadata": {},
   "source": [
    "---\n",
    "## D.3.2 Correct for transmit orientation\n",
    " \n",
    "<img align=\"center\" width=\"80%\" style=\"padding-right:10px;\" src=\"../Images/tx_with_motion.jpg\">\n",
    "\n",
    "Starting with the transmit mount alignment vector `tx_mount` create the transmit vector $\\overrightarrow {tx}_{tx}$ for the transmit epoch relative to geo-referenced directions i.e., taking roll, pitch and heading of the SRF into account.\n",
    "\n",
    "Create an attitude angle column vector `att_tx` with a heading of $114^{\\circ}$, a pitch of $-12^{\\circ}$, and a roll of $8^{\\circ}$ **in the order defined by the axes around which they take place i.e., ignore the order shown in the image above**.\n",
    "\n",
    "____\n",
    "### D.3.2.0 Create Orientation Vector"
   ]
  },
  {
   "cell_type": "code",
   "execution_count": 5,
   "metadata": {},
   "outputs": [
    {
     "name": "stdout",
     "output_type": "stream",
     "text": [
      "att_tx: \n",
      "[[ 0.13962634]\n",
      " [-0.20943951]\n",
      " [ 1.98967535]]\n"
     ]
    }
   ],
   "source": [
    "### D.3.2.0 Create Orientation Vector\n",
    "\n",
    "att_tx = ...\n",
    "\n",
    "print('att_tx: ')\n",
    "print(att_tx)"
   ]
  },
  {
   "cell_type": "markdown",
   "metadata": {},
   "source": [
    "Example: \n",
    "\n",
    "    att_tx: \n",
    "    [[ 0.13962634]\n",
    "     [-0.20943951]\n",
    "     [ 1.98967535]]\n"
   ]
  },
  {
   "cell_type": "markdown",
   "metadata": {},
   "source": [
    "____\n",
    "### D.3.2.1 Create Transmit Vector\n",
    "\n",
    "Now create the transmit vector `tx` by rotating `tx_mount` using the orientation vector. "
   ]
  },
  {
   "cell_type": "code",
   "execution_count": 22,
   "metadata": {},
   "outputs": [
    {
     "name": "stdout",
     "output_type": "stream",
     "text": [
      "tx: \n",
      "[[array([-0.43921654])]\n",
      " [array([0.88373652])]\n",
      " [array([0.16155061])]]\n"
     ]
    }
   ],
   "source": [
    "### D.3.2.1 Create Transmit Vector\n",
    "\n",
    "tx = ...\n",
    "\n",
    "print('tx: ')\n",
    "print(tx)"
   ]
  },
  {
   "cell_type": "markdown",
   "metadata": {},
   "source": [
    "Example: \n",
    "\n",
    "    tx: \n",
    "    [[array([-0.43921654])]\n",
    "     [array([0.88373652])]\n",
    "     [array([0.16155061])]]\n"
   ]
  },
  {
   "cell_type": "markdown",
   "metadata": {},
   "source": [
    "---\n",
    "## D.3.3 Align Receive Array to Ship's Reference Frame\n",
    " \n",
    "<img align=\"center\" width=\"80%\" style=\"padding-right:10px;\" src=\"../Images/align_rx.jpg\">\n",
    "\n",
    "Starting with the ideal receive vector `rx_ideal` of (0,1,0).\n",
    "\n",
    "Establish the as-installed vector accounting for the receive transducer mounting angles relative to the SRF. Let's evaluate an example where the mounting angles of the transmit array are contained in the column vector `ma_rx` as a 2D `np.array`. The transmit mount angles are a $3^{\\circ}$ yaw angle, $0^{\\circ}$ pitch angle $Y$-axis, and $-42^{\\circ}$ roll angle. \n",
    "\n",
    "____\n",
    "### D.3.3.0 Create Alignment Vector"
   ]
  },
  {
   "cell_type": "code",
   "execution_count": 7,
   "metadata": {},
   "outputs": [
    {
     "name": "stdout",
     "output_type": "stream",
     "text": [
      "ma_rx: \n",
      "[[-0.73303829]\n",
      " [ 0.        ]\n",
      " [ 0.05235988]]\n"
     ]
    }
   ],
   "source": [
    "### D.3.3.0 Create Alignment Vector\n",
    "\n",
    "ma_rx = ...\n",
    "\n",
    "print('ma_rx: ')\n",
    "print(ma_rx)"
   ]
  },
  {
   "cell_type": "markdown",
   "metadata": {},
   "source": [
    "Example: \n",
    "\n",
    "    ma_rx: \n",
    "    [[-0.73303829]\n",
    "     [ 0.        ]\n",
    "     [ 0.05235988]]\n"
   ]
  },
  {
   "cell_type": "markdown",
   "metadata": {},
   "source": [
    "____\n",
    "### D.3.3.1 Create Receive Mount Vector\n",
    "\n",
    "Now create the transmit vector `rx_mount` by rotating `rx_ideal` using the transmit mount alignment vector."
   ]
  },
  {
   "cell_type": "code",
   "execution_count": 8,
   "metadata": {},
   "outputs": [
    {
     "name": "stdout",
     "output_type": "stream",
     "text": [
      "rx_mount: \n",
      "[[array([-0.0388932])]\n",
      " [array([0.74212637])]\n",
      " [array([-0.66913061])]]\n"
     ]
    }
   ],
   "source": [
    "### D.3.1.1 Create Transmit Mount Vector\n",
    "\n",
    "\n",
    "rx_mount = ...\n",
    "\n",
    "print('rx_mount: ')\n",
    "print(rx_mount)"
   ]
  },
  {
   "cell_type": "markdown",
   "metadata": {},
   "source": [
    "Example: \n",
    "\n",
    "    rx_mount: \n",
    "    [[array([-0.0388932])]\n",
    "     [array([0.74212637])]\n",
    "     [array([-0.66913061])]]\n",
    "\n"
   ]
  },
  {
   "cell_type": "markdown",
   "metadata": {},
   "source": [
    "---\n",
    "## D.3.4 Correct for Receive orientation\n",
    " \n",
    "<img align=\"center\" width=\"80%\" style=\"padding-right:10px;\" src=\"../Images/rx_with_motion.jpg\">\n",
    "\n",
    "Starting with the transmit mount alignment vector `tx_mount` create the transmit vector $\\overrightarrow {tx}_{tx}$ for the transmit epoch relative to geo-referenced directions i.e., taking roll, pitch and heading of the SRF into account.\n",
    "\n",
    "Create an attitude angle column vector `att_tx` with a heading of $114^{\\circ}$, a pitch of $-12^{\\circ}$, and a roll of $8^{\\circ}$ **in the order defined by the axes around which they take place i.e., ignore the order shown in the image above**.\n",
    "\n",
    "____\n",
    "### D.3.4.0 Create Orientation Vector"
   ]
  },
  {
   "cell_type": "code",
   "execution_count": 9,
   "metadata": {},
   "outputs": [
    {
     "name": "stdout",
     "output_type": "stream",
     "text": [
      "att_rx: \n",
      "[[ 0.06981317]\n",
      " [-0.12217305]\n",
      " [ 1.91986218]]\n"
     ]
    }
   ],
   "source": [
    "### D.3.4.0 Create Orientation Vector\n",
    "\n",
    "att_rx = ...\n",
    "\n",
    "print('att_rx: ')\n",
    "print(att_rx)"
   ]
  },
  {
   "cell_type": "markdown",
   "metadata": {},
   "source": [
    "Example: \n",
    "\n",
    "    att_rx: \n",
    "    [[ 0.06981317]\n",
    "     [-0.12217305]\n",
    "     [ 1.91986218]]\n",
    "\n"
   ]
  },
  {
   "cell_type": "markdown",
   "metadata": {},
   "source": [
    "____\n",
    "### D.3.4.1 Create Receive Vector\n",
    "\n",
    "Now create the receive vector `rx` by rotating `rx_mount` using the orientation vector. "
   ]
  },
  {
   "cell_type": "code",
   "execution_count": 10,
   "metadata": {},
   "outputs": [
    {
     "name": "stdout",
     "output_type": "stream",
     "text": [
      "rx: \n",
      "[[array([-0.75199491])]\n",
      " [array([-0.23492978])]\n",
      " [array([-0.61588283])]]\n"
     ]
    }
   ],
   "source": [
    "### D.3.4.1 Create Receive Vector\n",
    "\n",
    "rx = ...\n",
    "\n",
    "print('rx: ')\n",
    "print(rx)"
   ]
  },
  {
   "cell_type": "markdown",
   "metadata": {},
   "source": [
    "Example: \n",
    "\n",
    "    rx: \n",
    "    [[array([-0.75199491])]\n",
    "     [array([-0.23492978])]\n",
    "     [array([-0.61588283])]]\n",
    "\n"
   ]
  },
  {
   "cell_type": "markdown",
   "metadata": {},
   "source": [
    "### D.3.5.0 Calculate the non-orthogonality angle `no` as a a scalar\n",
    "\n",
    "<img align=\"center\" width=\"80%\" style=\"padding-right:10px;\" src=\"../Images/no.jpg\">\n",
    "\n",
    "Remember that the inner (dot) product of two vectors is the product of their magnitudes and the cosine of the angle between them. In this case the magnitude of the vectors is one (by design) so the dot product is the cosine of the angle between them in the plane defined by the two vectors\n",
    "\n",
    "We expect the angle to be orthogonal i.e. $\\pi/2$ so the non-orthogonality is the difference with $\\pi/2$.\n",
    "\n",
    "$$no = \\arccos(\\overrightarrow {tx}^T\\cdot \\overrightarrow {rx})-\\pi/2\\Rightarrow$$\n",
    "\n",
    "\n",
    "$$no = -\\arcsin(\\overrightarrow {tx}^T\\cdot \\overrightarrow {rx})$$\n",
    "\n",
    "Note that for the arcsin you need to supply a scalar i.e., if you determine the inner product as `tx.T@rx` you will need to provide element `[0][0]` of the result as the argument to `arcsin()` "
   ]
  },
  {
   "cell_type": "code",
   "execution_count": 11,
   "metadata": {},
   "outputs": [
    {
     "name": "stdout",
     "output_type": "stream",
     "text": [
      "no: \n",
      "-0.023178408510413993\n"
     ]
    }
   ],
   "source": [
    "### D.3.5.0 Calculate the non-orthogonality angle `no` as a a scalar\n",
    "\n",
    "no = ...\n",
    "\n",
    "print('no: ')\n",
    "print(no)"
   ]
  },
  {
   "cell_type": "markdown",
   "metadata": {},
   "source": [
    "Example: \n",
    "\n",
    "    no: \n",
    "    -0.023178408510413993\n",
    "\n"
   ]
  },
  {
   "cell_type": "markdown",
   "metadata": {},
   "source": [
    "---\n",
    "## D.3.6 Create a Plane Subtended by the Transducer Array Vectors\n",
    " \n",
    "<img align=\"center\" width=\"80%\" style=\"padding-right:10px;\" src=\"../Images/ortho_plane.jpg\">\n",
    "\n",
    "Now that we have the geo-eferenced orientation of the transmit and receive vectors, we need to establish the orientation of the plane that contains the two vectors. This is necessary so that we can utilized the calculation of the intersection of non-orthogonal cones.\n",
    "\n",
    "That resulting vector is relative to the plane. In order to establish the beam vector orientation with respect to the real world, we need to know the orientation of that plane."
   ]
  },
  {
   "cell_type": "markdown",
   "metadata": {},
   "source": [
    "### D.3.6.0 Align the X' axis with the Transducer Axis `tx`\n",
    "\n",
    "Create the variable `x_p` representing the x-axis of our coordinate system and align it with `tx`. (we really are copying a value here, which is not very efficient, but makes the code easier to understand."
   ]
  },
  {
   "cell_type": "code",
   "execution_count": 12,
   "metadata": {},
   "outputs": [
    {
     "name": "stdout",
     "output_type": "stream",
     "text": [
      "x_p: \n",
      "[[array([-0.43921654])]\n",
      " [array([0.88373652])]\n",
      " [array([0.16155061])]]\n"
     ]
    }
   ],
   "source": [
    "## D.3.6.0 Align the X' axis with the Transducer Axis `tx`\n",
    "\n",
    "x_p = ...\n",
    "\n",
    "print('x_p: ')\n",
    "print(x_p)"
   ]
  },
  {
   "cell_type": "markdown",
   "metadata": {},
   "source": [
    "Example: \n",
    "\n",
    "    x_p: \n",
    "    [[array([-0.43921654])]\n",
    "     [array([0.88373652])]\n",
    "     [array([0.16155061])]]\n",
    "\n"
   ]
  },
  {
   "cell_type": "markdown",
   "metadata": {},
   "source": [
    "### D.3.6.1 Align the Z' orthogonal to both the Tx and Rx axis\n",
    "\n",
    "Align the Z-axis orthogonal to both the Tx and Rx axis (use the cross product for this) - the cross product of two vectors is the vector that is orthogonal to the vectors and has a magnitude equal to the area that the vectors span. since both `tx` and `rx` are unit vectors the magnitude will be one, thus the resulting vector is an orthogonal unit vector. Assign the resulting vector to the variable `zp`. \n",
    "\n",
    "Note that to use the numpy `cross` function you will have to transpose the input vectors. This leads to the result being transposed, so you will have to transpose the result to get the desired column vector.\n"
   ]
  },
  {
   "cell_type": "code",
   "execution_count": 13,
   "metadata": {},
   "outputs": [
    {
     "name": "stdout",
     "output_type": "stream",
     "text": [
      "z_p: \n",
      "[[array([-0.5063251])]\n",
      " [array([-0.39199116])]\n",
      " [array([0.7677504])]]\n"
     ]
    }
   ],
   "source": [
    "### D.3.6.1 Align the Z' orthogonal to both the Tx and Rx axis\n",
    "\n",
    "z_p = ...\n",
    "\n",
    "print('z_p: ')\n",
    "print(z_p)"
   ]
  },
  {
   "cell_type": "markdown",
   "metadata": {},
   "source": [
    "Example: \n",
    "\n",
    "    z_p: \n",
    "    [[array([-0.5063251])]\n",
    "     [array([-0.39199116])]\n",
    "     [array([0.7677504])]]\n",
    "\n",
    "\n"
   ]
  },
  {
   "cell_type": "markdown",
   "metadata": {},
   "source": [
    "### D.3.6.2 Align the Y' axis Orthogonally to the X' and Z' axis\n",
    "\n",
    "Now that we have the orthogonal X' and Z' axis we may determine the Y' axis as being orthogonal to those two. Note that to get a right handed reference frame we need to use the order X,Z which in linear algebra leads to the reverse notation.\n",
    "\n",
    "You may again use numpy `cross()` for the pupose\n"
   ]
  },
  {
   "cell_type": "code",
   "execution_count": 14,
   "metadata": {},
   "outputs": [
    {
     "name": "stdout",
     "output_type": "stream",
     "text": [
      "y_p: \n",
      "[[array([-0.74181548])]\n",
      " [array([-0.25541155])]\n",
      " [array([-0.61962698])]]\n"
     ]
    }
   ],
   "source": [
    "### D.3.6.2 Align the Y' axis Orthogonally to the X' and Z' axis\n",
    "\n",
    "y_p = ...\n",
    "\n",
    "print('y_p: ')\n",
    "print(y_p)"
   ]
  },
  {
   "cell_type": "markdown",
   "metadata": {},
   "source": [
    "Example: \n",
    "\n",
    "    y_p: \n",
    "    [[array([-0.74181548])]\n",
    "     [array([-0.25541155])]\n",
    "     [array([-0.61962698])]]\n",
    "\n",
    "\n"
   ]
  },
  {
   "cell_type": "markdown",
   "metadata": {},
   "source": [
    "### D.3.6.3 Create the Rotation Matrix X\n",
    "\n",
    "The newly created axes x', y' and z' for the basis of an orthogonal coordinate system that is aligned to the transducers. The vectors are the expression of the axis in geo-referenced space and since they are unit length their components are the direction cosines of the axes. Thus we may think of the collection of the axis as the rotation from the coordinate system defined by the transducers to geocentric coordinates.\n",
    "\n",
    "$$ X=\\left[{\\begin{array}{cc}x' & y' & z' \\end{array}}\\right]$$\n",
    "\n",
    "\n",
    "$$\\overrightarrow{\\text{geocentric vector}} = X\\cdot\\overrightarrow{\\text{transducer centric vector}}$$\n",
    "\n",
    "Note that you may use the numpy `hstack()` function to concatenate (augment) arrays\n"
   ]
  },
  {
   "cell_type": "code",
   "execution_count": 15,
   "metadata": {},
   "outputs": [
    {
     "name": "stdout",
     "output_type": "stream",
     "text": [
      "X: \n",
      "[[array([-0.43921654]) array([-0.74181548]) array([-0.5063251])]\n",
      " [array([0.88373652]) array([-0.25541155]) array([-0.39199116])]\n",
      " [array([0.16155061]) array([-0.61962698]) array([0.7677504])]]\n"
     ]
    }
   ],
   "source": [
    "### D.3.6.3 Create the Rotation Matrix X\n",
    "\n",
    "X = ...\n",
    "\n",
    "print('X: ')\n",
    "print(X)"
   ]
  },
  {
   "cell_type": "markdown",
   "metadata": {},
   "source": [
    "Example: \n",
    "\n",
    "    X: \n",
    "    [[array([-0.43921654]) array([-0.74181548]) array([-0.5063251])]\n",
    "     [array([0.88373652]) array([-0.25541155]) array([-0.39199116])]\n",
    "     [array([0.16155061]) array([-0.61962698]) array([0.7677504])]]\n",
    "\n",
    "\n"
   ]
  },
  {
   "cell_type": "markdown",
   "metadata": {},
   "source": [
    "---\n",
    "## D.3.7 Calculate the Beam Vector in the Newly Created Coordinate System\n",
    " \n",
    "<img align=\"center\" width=\"80%\" style=\"padding-right:10px;\" src=\"../Images/bv.jpg\">\n",
    "\n",
    "Steer the beams, in this case we are using the specific worked example steering directions (11$^\\circ$ for transmit, 33$^\\circ$ for recieve).\n",
    "\n",
    "This produces a specific beam vector in the coplanar coordinate system. The next step is to rotate it back into real world local level coordinate system.\n",
    "\n",
    "In the new coordinate system the beam vector `bv` is given by:\n",
    "\n",
    "$$ \\overrightarrow{bv}=\\left[ {\\begin{array}{cc}\\sin(\\text{tx}_\\text{steer}) \\\\y_1+y_2\\\\\\sqrt{1-\\rho_{xy}^2}\\\\\\end{array} } \\right]$$"
   ]
  },
  {
   "cell_type": "markdown",
   "metadata": {},
   "source": [
    "### D.3.7.0 Calculate the Distances $y_1$ and $y_2$\n",
    "\n",
    "Calculate the quantities $y_1$ and $y_2$ using a transmit steering angle of 11$^\\circ$ and a receive steering angle of 33$^\\circ$. Use the variables `tx_steer` and `rx_steer` to hold the steering angles in radians"
   ]
  },
  {
   "cell_type": "code",
   "execution_count": 16,
   "metadata": {},
   "outputs": [
    {
     "name": "stdout",
     "output_type": "stream",
     "text": [
      "tx_steer: \n",
      "0.19198621771937624\n",
      "rx_steer: \n",
      "0.5759586531581288\n",
      "y1: \n",
      "0.5447853683335581\n",
      "y2: \n",
      "-0.004423441018456583\n"
     ]
    }
   ],
   "source": [
    "## D.3.7.0 Calculate the Distances $y_1$ and $y_2$\n",
    "\n",
    "tx_steer = ...\n",
    "rx_steer = ...\n",
    "\n",
    "y1 = ...\n",
    "y2 = ...\n",
    "\n",
    "print('tx_steer: ')\n",
    "print(tx_steer)\n",
    "print('rx_steer: ')\n",
    "print(rx_steer)\n",
    "print('y1: ')\n",
    "print(y1)\n",
    "print('y2: ')\n",
    "print(y2)"
   ]
  },
  {
   "cell_type": "markdown",
   "metadata": {},
   "source": [
    "Example: \n",
    "\n",
    "    tx_steer: \n",
    "    0.19198621771937624\n",
    "    rx_steer: \n",
    "    0.5759586531581288\n",
    "    y1: \n",
    "    0.5447853683335581\n",
    "    y2: \n",
    "    -0.004423441018456583\n",
    "\n",
    "\n",
    "\n"
   ]
  },
  {
   "cell_type": "markdown",
   "metadata": {},
   "source": [
    "### D.3.7.1 Calculate the Radial Distance $\\rho$\n",
    "\n",
    "The radial distance $\\rho$ is now found by:\n",
    "\n",
    "$$\\rho=\\sqrt{(y_1+y_2)^2+sin(txsteer)^2}$$\n",
    "\n",
    "assign this distance to the scalar variable `radial`"
   ]
  },
  {
   "cell_type": "code",
   "execution_count": 17,
   "metadata": {},
   "outputs": [
    {
     "name": "stdout",
     "output_type": "stream",
     "text": [
      "radial: \n",
      "0.5730611531139563\n"
     ]
    }
   ],
   "source": [
    "### D.3.7.1 Calculate the Radial Distance $\\rho$\n",
    "\n",
    "radial=...\n",
    "\n",
    "print('radial: ')\n",
    "print(radial)"
   ]
  },
  {
   "cell_type": "markdown",
   "metadata": {},
   "source": [
    "Example: \n",
    "\n",
    "    radial: \n",
    "    0.5730611531139563\n",
    "\n",
    "\n",
    "\n"
   ]
  },
  {
   "cell_type": "markdown",
   "metadata": {},
   "source": [
    "### D.3.7.1 Construct the Beam Vector in Aligned to the Transducers\n",
    "\n",
    "We have all the components needed to create the vector: \n",
    "\n",
    "$$ \\overrightarrow{bv}=\\left[ {\\begin{array}{cc}\\sin(\\text{tx}_\\text{steer}) \\\\y_1+y_2\\\\\\sqrt{1-\\rho_{xy}^2}\\\\\\end{array} } \\right]$$\n",
    "\n",
    "Create this vector as a numpy column vector and name it `bv`, note that this is relative to the coordinate systems created by the transducers "
   ]
  },
  {
   "cell_type": "code",
   "execution_count": 18,
   "metadata": {},
   "outputs": [
    {
     "name": "stdout",
     "output_type": "stream",
     "text": [
      "bv: \n",
      "[[0.190809  ]\n",
      " [0.54036193]\n",
      " [0.81951261]]\n"
     ]
    }
   ],
   "source": [
    "### D.3.7.1 Construct the Beam Vector in Aligned to the Transducers\n",
    "\n",
    "bv = ...\n",
    "\n",
    "print('bv: ')\n",
    "print(bv)"
   ]
  },
  {
   "cell_type": "markdown",
   "metadata": {},
   "source": [
    "### D.3.7.2 Transform $\\overrightarrow{bv}$ to the Georeferenced Frame defined by X\n",
    "\n",
    "\n",
    "Use the rotation matrix `X` created in step 3.6.3 to obtain the beam vector `bv_geo` in georeferenced space.\n",
    "\n",
    "$$\\overrightarrow{bv_{geo}} = X\\cdot\\overrightarrow{bv}$$\n",
    "\n"
   ]
  },
  {
   "cell_type": "code",
   "execution_count": 19,
   "metadata": {},
   "outputs": [
    {
     "name": "stdout",
     "output_type": "stream",
     "text": [
      "bv_geo: \n",
      "[[array([-0.89959511])]\n",
      " [array([-0.2906315])]\n",
      " [array([0.32518361])]]\n"
     ]
    }
   ],
   "source": [
    "### D.3.7.2 Transform $\\overrightarrow{bv}$ to the Georeferenced Frame defined by X\n",
    "\n",
    "bv_geo = ...\n",
    "\n",
    "print('bv_geo: ')\n",
    "print(bv_geo)"
   ]
  },
  {
   "cell_type": "markdown",
   "metadata": {},
   "source": [
    "Example: \n",
    "\n",
    "    bv_geo: \n",
    "    [[array([-0.89959511])]\n",
    "     [array([-0.2906315])]\n",
    "     [array([0.32518361])]]\n",
    "\n",
    "\n",
    "\n"
   ]
  },
  {
   "cell_type": "markdown",
   "metadata": {},
   "source": [
    "### D.3.7.3 Determine the Depression Angle wrt the Horizontal\n",
    "\n",
    "The length of the horizontal component of the vector is given by the sum of the x and y components i.e.,\n",
    "\n",
    "$$\\rho_{hor} = \\sqrt{bv_{geo,x}^2+bv_{geo,y}^2}$$\n",
    "\n",
    "and the vertical component is simply:\n",
    "\n",
    "$$\\rho_{ver} = bv_{geo,z}$$\n",
    "\n",
    "The depression angle of the beam may then be found by:\n",
    "\n",
    "$$ \\theta = \\arctan\\left(\\frac{\\rho_{ver}}{\\rho_{hor}}\\right)$$\n",
    "\n",
    "Determine the depression angle `th` for the beam"
   ]
  },
  {
   "cell_type": "code",
   "execution_count": 20,
   "metadata": {},
   "outputs": [
    {
     "name": "stdout",
     "output_type": "stream",
     "text": [
      "th: \n",
      "0.3312949169939458\n"
     ]
    }
   ],
   "source": [
    "### D.3.7.3 Determine the Depression Angle wrt the Horizontal\n",
    "\n",
    "th = ...\n",
    "\n",
    "print('th: ')\n",
    "print(th)"
   ]
  },
  {
   "cell_type": "markdown",
   "metadata": {},
   "source": [
    "Example: \n",
    "\n",
    "    th: \n",
    "    0.3312949169939458\n",
    "\n",
    "\n",
    "\n"
   ]
  },
  {
   "cell_type": "markdown",
   "metadata": {},
   "source": [
    "### D.3.7.4 Determine the Azimuth of the Beam Vector\n",
    "\n",
    "The length of the azimuth is the clockwise angle from North to the horizontal component of the vector i.e.,\n",
    "\n",
    "$$\\alpha_{hor} = \\arctan{bv_{geo,y}^2+bv_{geo,x}^2}$$\n",
    "\n",
    "where the quadrant needs to be taken into account. Determine the azimuth of the beam and assign it to `az`"
   ]
  },
  {
   "cell_type": "code",
   "execution_count": 21,
   "metadata": {},
   "outputs": [
    {
     "name": "stdout",
     "output_type": "stream",
     "text": [
      "az: \n",
      "-2.8291080622079465\n"
     ]
    }
   ],
   "source": [
    "### D.3.7.4 Determine the azimuth of the beam vector\n",
    "az = ...\n",
    "\n",
    "print('az: ')\n",
    "print(az)"
   ]
  },
  {
   "cell_type": "markdown",
   "metadata": {},
   "source": [
    "Example: \n",
    "\n",
    "    az: \n",
    "    -2.8291080622079465\n",
    "\n",
    "\n",
    "\n"
   ]
  }
 ],
 "metadata": {
  "kernelspec": {
   "display_name": "Python 3",
   "language": "python",
   "name": "python3"
  },
  "language_info": {
   "codemirror_mode": {
    "name": "ipython",
    "version": 3
   },
   "file_extension": ".py",
   "mimetype": "text/x-python",
   "name": "python",
   "nbconvert_exporter": "python",
   "pygments_lexer": "ipython3",
   "version": "3.6.10"
  }
 },
 "nbformat": 4,
 "nbformat_minor": 2
}
