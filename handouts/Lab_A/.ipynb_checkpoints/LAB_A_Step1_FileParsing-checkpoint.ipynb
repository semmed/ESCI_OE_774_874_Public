{
 "cells": [
  {
   "cell_type": "markdown",
   "metadata": {},
   "source": [
    "<a href=\"https://www.hydroffice.org/epom/\"><img src=\"../../python_basics/images/000_000_epom_logo.png\" alt=\"ePOM\" title=\"Open ePOM home page\" align=\"center\" width=\"12%\" alt=\"Python logo\\\"></a>"
   ]
  },
  {
   "cell_type": "markdown",
   "metadata": {},
   "source": [
    "# Lab A, Step 1: File Parsing"
   ]
  },
  {
   "cell_type": "markdown",
   "metadata": {},
   "source": [
    "In this Notebook you will create classes for handling various ocean mapping data. You may use these classes for the Lab A assignment in the Integrated Seabed Mapping Systems course. \n",
    "\n",
    "To refresh your memory on reading **text files** please refer to the ePOM *Programming Basics with Python for Ocean Mapping* [Read and Write Text Files](../../python_basics/006_Read_and_Write_Text_Files.ipynb) notebook. Similarly for help with **classes** use the [A class as a Data Container](../../python_basics/008_A_Class_as_a_Data_Container.ipynb) notebook.\n",
    "\n",
    "Progressing through this notebook You will create the class definitions and keep adding **code** to it. Each class definition will be contained in a single code cell in a notebook that has the same name as the class. "
   ]
  },
  {
   "cell_type": "markdown",
   "metadata": {},
   "source": [
    "---\n",
    "___"
   ]
  },
  {
   "cell_type": "markdown",
   "metadata": {},
   "source": [
    "## 1.1 Time Series Data Class Definitions\n"
   ]
  },
  {
   "cell_type": "markdown",
   "metadata": {},
   "source": [
    "---\n",
    "### 1.1.1 Class Definition\n",
    "\n",
    "In the code cell below [define the class](../../python_basics/008_A_Class_as_a_Data_Container.ipynb) using the `class` keyword, the class name `WaterLevelData` and a `:` and the `docstring` \"\"\"A Class for Water Level Data\"\"\"\"\n"
   ]
  },
  {
   "cell_type": "code",
   "execution_count": 17,
   "metadata": {},
   "outputs": [],
   "source": [
    "import os.path\n",
    "from datetime import datetime, timezone\n",
    "\n",
    "class WaterLevelData:\n",
    "    \"\"\"A Class for Water Level Data\"\"\"\n",
    "\n",
    "    def __init__(self):\n",
    "\n",
    "        # The data attributes\n",
    "        self.epochs = list()\n",
    "        self.water_levels = list()\n",
    "        self.metadata = dict()\n",
    "        self.metadata[\"units\"] = \"m\"\n",
    "        self.metadata[\"geoid\"] = None\n",
    "        self.metadata[\"start_time\"] = None\n",
    "        self.metadata[\"end_time\"] = None\n",
    "        self.metadata[\"count\"] = None\n",
    "\n",
    "    # The I/O methods:\n",
    "\n",
    "    def read_jhc_file(self, fullpath):\n",
    "\n",
    "        # Check the File's existence\n",
    "        if os.path.exists(fullpath):\n",
    "            self.metadata[\"Source File\"] = fullpath\n",
    "            print('Opening water level data file:' + fullpath)\n",
    "        else:  # Raise a meaningful error\n",
    "            raise RuntimeError('Unable to locate the input file' + fullpath)\n",
    "\n",
    "        # Open, read and close the file\n",
    "        wl_file = open(fullpath)\n",
    "        wl_content = wl_file.read()\n",
    "        wl_file.close\n",
    "\n",
    "        # Tokenize the contents\n",
    "        wl_lines = wl_content.splitlines()\n",
    "        count = 0  # initialize the counter for the number of rows read\n",
    "        for wl_line in wl_lines:\n",
    "            observations = wl_line.split()  # Tokenize the string\n",
    "            epoch=datetime.fromtimestamp(float(observations[5]), timezone.utc)\n",
    "            self.epochs.append(epoch)\n",
    "            self.water_levels.append(float(observations[6]))\n",
    "            count += 1"
   ]
  },
  {
   "cell_type": "markdown",
   "metadata": {},
   "source": [
    "---\n",
    "### 1.1.2 Create a Class instance \n",
    "\n",
    "In the code cell below create an instance of the `WaterLevelData` class called water_level_data and check its type"
   ]
  },
  {
   "cell_type": "code",
   "execution_count": 18,
   "metadata": {},
   "outputs": [
    {
     "data": {
      "text/plain": [
       "__main__.WaterLevelData"
      ]
     },
     "execution_count": 18,
     "metadata": {},
     "output_type": "execute_result"
    }
   ],
   "source": [
    "water_level_data = WaterLevelData()\n",
    "type(water_level_data)"
   ]
  },
  {
   "cell_type": "markdown",
   "metadata": {},
   "source": [
    "---\n",
    "### 1.1.3 Add Attributes to the Class\n"
   ]
  },
  {
   "cell_type": "markdown",
   "metadata": {},
   "source": [
    "<img src=\"../../Images/TideFile.png\">"
   ]
  },
  {
   "cell_type": "markdown",
   "metadata": {},
   "source": [
    "In the cell above you see the contents of the file `Lab_A_TIDE.txt`. As you can see there are no **metadata** contained within the file. Each row in the data file represents a record consisting of a specific time and date (**epoch**), and an associated water level observation in meters. The epoch for each record is represented two times in this file: first by a combination of the Year, year-day, hour and minute as **integer** values and seconds as **float** values. The second representation of time is as seconds since Universal Time Coordinated (UTC) midnight January 1, 1970."
   ]
  },
  {
   "cell_type": "markdown",
   "metadata": {},
   "source": [
    "<img align=\"left\" width=\"6%\" style=\"padding-right:10px;\" src=\"../../Images/info.png\">\n",
    "\n",
    "**POSIX Time** (alternatively **Unix time** or **Unix Epoch time**) is the number of elapsed seconds since  midnight January 1, 1970 UTC."
   ]
  },
  {
   "cell_type": "markdown",
   "metadata": {},
   "source": [
    "The benefit of using POSIX time for data is that it is independent of the time zone in which the data is collected, and that you may represent an epoch by a single number, thereby simplifying math involving time spans."
   ]
  },
  {
   "cell_type": "markdown",
   "metadata": {},
   "source": [
    "Add the [`__init__`](../../python_basics/008_A_Class_as_a_Data_Container.ipynb) method to to the `WaterLevelData` class in the code cell of step 1.1.1. In the `__init__` method add the attributes `epochs` and `water_levels` as `lists`. If you forget how to do this you may look at the example in [A Class as a Data Container](../../python_basics/008_A_Class_as_a_Data_Container.ipynb)."
   ]
  },
  {
   "cell_type": "markdown",
   "metadata": {},
   "source": [
    "**Click on Kernel $\\rightarrow$ Restart & Run All.** This to make sure that the updates you made propagate through."
   ]
  },
  {
   "cell_type": "markdown",
   "metadata": {},
   "source": [
    "The code cell below list the attributes associated to the class using the `__dict__` `magic` or `dunder` method. For now you do not have to know how `dunder methods` work, just that this particular one provides a convenient way to get a list of the `attributes` of a class."
   ]
  },
  {
   "cell_type": "code",
   "execution_count": 19,
   "metadata": {},
   "outputs": [
    {
     "data": {
      "text/plain": [
       "dict_keys(['epochs', 'water_levels', 'metadata'])"
      ]
     },
     "execution_count": 19,
     "metadata": {},
     "output_type": "execute_result"
    }
   ],
   "source": [
    "water_level_data.__dict__.keys()"
   ]
  },
  {
   "cell_type": "markdown",
   "metadata": {},
   "source": [
    "---\n",
    "### 1.1.4 [Metadata](../../python_basics/007_Dictionaries_and_Metadata.ipynb)\n",
    "\n",
    "\n",
    "The `WaterLevelData` class you created currently defines a container that can hold water level data. To make it more useful we will add [`metadata`](../../python_basics/007_Dictionaries_and_Metadata.ipynb). You may ask what metadata should I add? The answer to the question above is not at all trivial! \n",
    "\n",
    "Take for example the epochs in the tide data file: they are simply represented as numbers and it is up to us to interpret them. It is desirable that in the WaterLevelData the epochs are represented as specific moments in time that are not open to interpretation. We can achieve this in a number of manners, namely by adding `metadata` descriptive of the time base used, which can get very messy (are the years Julian or Gregorian, is the time 'UTC' time, 'GPS' time, etc...). Fortunately Python provides the `datetime` module that supplies the functionality needed. \n",
    "\n",
    "In the code snippet below the use of a `datetime` object is illustrated, using the POSIX time of the first data record in the file `Lab_A_TIDE.txt`:"
   ]
  },
  {
   "cell_type": "code",
   "execution_count": 20,
   "metadata": {},
   "outputs": [
    {
     "name": "stdout",
     "output_type": "stream",
     "text": [
      "Epoch in YYYY-MM-DD HH:MM:SS format: 2011-05-04 03:30:00\n",
      "Year date: 124\n",
      "Time Zone: None\n"
     ]
    }
   ],
   "source": [
    "from datetime import datetime, timezone\n",
    "epoch_naive=datetime.fromtimestamp(1304479800.000)\n",
    "print(\"Epoch in YYYY-MM-DD HH:MM:SS format: \" + str(epoch_naive))\n",
    "\n",
    "# You can verify the year date (as is shown in the tide file) as follows\n",
    "print(\"Year date: \" + str(epoch_naive.timetuple().tm_yday))\n",
    "print(\"Time Zone: \" +str(epoch_naive.tzinfo))"
   ]
  },
  {
   "cell_type": "markdown",
   "metadata": {},
   "source": [
    "The time zone is None! **This does not represent: 'a specific moment in time that is not open to interpretation'!** The representation of the time by `epoch_naive` is said to be **naive** if the timezone is `None`, as opposed to be **aware** when the timezone is specified. The `epoch_naive.tzinfo` attribute is metadata that describes the properties of the time contained in an object of type `datetime`.\n",
    "\n",
    "It is important that you start understanding the help provided by the Python documentation. Look at the class method `datetime.fromtimestamp` section in the `datetime` Python documentation and use it to update the code below so that the time zone is printed as `UTC`"
   ]
  },
  {
   "cell_type": "code",
   "execution_count": 21,
   "metadata": {},
   "outputs": [
    {
     "name": "stdout",
     "output_type": "stream",
     "text": [
      "Epoch in YYYY-MM-DD HH:MM:SS format: 2011-05-04 03:30:00+00:00\n",
      "Year date: 124\n",
      "Time Zone: UTC\n"
     ]
    }
   ],
   "source": [
    "epoch=datetime.fromtimestamp(1304479800.000, timezone.utc)\n",
    "print(\"Epoch in YYYY-MM-DD HH:MM:SS format: \" + str(epoch))\n",
    "\n",
    "# You can verify the year date (as is shown in the tide file) as follows\n",
    "print(\"Year date: \" + str(epoch.timetuple().tm_yday))\n",
    "print(\"Time Zone: \" +str(epoch.tzinfo))"
   ]
  },
  {
   "cell_type": "markdown",
   "metadata": {},
   "source": [
    "<img align=\"left\" width=\"6%\" style=\"padding-right:10px;\" src=\"../../Images/key.png\">\n",
    "\n",
    "in ocean mapping almost all data is integrated on a time basis. It is therefore of key importance that you handle time consistently. By specifying the epochs as `aware` objects of class `datetime` the metadata is included in the epochs as the `tzinfo` attribute."
   ]
  },
  {
   "cell_type": "markdown",
   "metadata": {},
   "source": [
    "---\n",
    "### 1.1.5 Add a Metadata Attribute to the Class\n",
    "\n",
    "In the previous section you have seen that the `datetime` includes the necessary metadata to interpret the epochs consistently. Thus if we add datetime objects to the `WaterLevelData` epochs `list` we do not need to add futher metadata to correctly interpret the time.\n",
    "\n",
    "We can, however, add other metadata to the class. In the code cell from step 1.1.1  Add the attribute metadata as a dict (for more information on dictionaries see the [Dictionaries and Metadata](../../python_basics/007_Dictionaries_and_Metadata.ipynb) notebook).\n",
    "\n",
    "**Click on Kernel $\\rightarrow$ Restart & Run All.** This to make sure that the updates you made to the cell propagate through.\n",
    "\n",
    "In the code cell below add a line that prints the metadata contained in the `water_level_data` object. "
   ]
  },
  {
   "cell_type": "code",
   "execution_count": 22,
   "metadata": {},
   "outputs": [
    {
     "name": "stdout",
     "output_type": "stream",
     "text": [
      "{'units': 'm', 'geoid': None, 'start_time': None, 'end_time': None, 'count': None}\n"
     ]
    }
   ],
   "source": [
    "print(water_level_data.metadata)"
   ]
  },
  {
   "cell_type": "markdown",
   "metadata": {},
   "source": [
    "---\n",
    "### 1.1.6 Populate the Metadata Attribute\n",
    "\n",
    "The purpose of the `WaterLevelData` class is to hold the data contained in a water level file such as Lab_A_TIDE.txt. To interpret the numbers specified in the files we need to know what  the observations represent. In this case they are heights in meters above the ['EGM96' **geoid**](https://en.wikipedia.org/wiki/EGM96) model (a **geoid** is a model that represents the shape of the Earth and is defined by the equipotential gravity surface that most closely matches Mean Sea Level).\n",
    "\n",
    "#### 1.1.6.a The 'units' attribute\n",
    "\n",
    "We always want the units to be meters by default so you should add the key \"units\" with as a value the string \"m\" to the metadata attribute in the __init__ method of the WaterLevelData class in the code cell of section 1.1.1."
   ]
  },
  {
   "cell_type": "markdown",
   "metadata": {},
   "source": [
    "**Click on Kernel $\\rightarrow$ Restart & Run All.** This to make sure that the updates you made propagate through. Note that the code cell of section 1.1.4 now prints the `tuple` {'units': 'm'}."
   ]
  },
  {
   "cell_type": "markdown",
   "metadata": {},
   "source": [
    "#### 1.1.6.b The 'geoid' attribute\n",
    "\n",
    "To properly reference the *geometric* heights (heights above the geoid) you need to know what geoid is used. Unlike the units we do not have a preference for what the geoid should be. Therefore at the time of creation we can set this attribute to `None` by default and then change it later as needed.\n",
    "\n",
    "Add the key \"geoid\" with None as a value metadata attribute in the init method of the WaterLevelData class in the code cell of section 1.1.1."
   ]
  },
  {
   "cell_type": "markdown",
   "metadata": {},
   "source": [
    "**Click on Kernel $\\rightarrow$ Restart & Run All.** This to make sure that the updates you made propagate through. Note that the code cell of section 1.1.4 now prints the `tuple` {'units': 'm', 'geoid': None}"
   ]
  },
  {
   "cell_type": "markdown",
   "metadata": {},
   "source": [
    "In the code cell below change the value associated to the key `water_level_data.metadata[\"geoid\"]` to the string \"EGM96\" and then print the complete metadata for the  `water_level_data` instance."
   ]
  },
  {
   "cell_type": "code",
   "execution_count": 23,
   "metadata": {},
   "outputs": [
    {
     "name": "stdout",
     "output_type": "stream",
     "text": [
      "{'units': 'm', 'geoid': 'EGM96', 'start_time': None, 'end_time': None, 'count': None}\n"
     ]
    }
   ],
   "source": [
    "water_level_data.metadata[\"geoid\"]=\"EGM96\"\n",
    "print(water_level_data.metadata)"
   ]
  },
  {
   "cell_type": "markdown",
   "metadata": {},
   "source": [
    "### 1.1.7 Add the read_jhc_file method to the class\n",
    "\n",
    "There are a myriad of file formats for water level data. The file included with this assignment was created by John Hughes Clarke (jhc) so for convenience we will refer to the format of the file as the 'jhc' water level file format.\n",
    "\n",
    "<img align=\"center\"  src=\"../../Images/read_jhc_file.png\">\n",
    "\n",
    "To read the data and load it into your `water_level_data` object it would be convenient if we can tell the object to read a 'jhc' water level file. To achieve this add the method `read_jhc_file` shown above to the class definition in section 1.1.1. Also, make sure to import the os.path module in that code section"
   ]
  },
  {
   "cell_type": "markdown",
   "metadata": {},
   "source": [
    "<img align=\"left\" width=\"6%\" style=\"padding-right:10px;\" src=\"../../Images/info.png\">\n",
    "\n",
    "Visit the ePOM [Write Your Own Functions](../../python_basics/005_Write_Your_Own_Functions.ipynb) notebook to learn more about writing functions.<br>\n",
    "Visit the ePOM [Read and Write Text Files](../../python_basics/006_Read_and_Write_Text_Files.ipynb) notebook to learn more about text file I/O.  "
   ]
  },
  {
   "cell_type": "markdown",
   "metadata": {},
   "source": [
    "In the code cell below add code that assigns the string containing the absolute path to the current directory and assign it to the variable `fullpath`. Augment the `fullpath` string with a slash and the name of the water level data file i.e., `\"Lab_A_TIDE.txt\"` and print the value of `fullpath`. "
   ]
  },
  {
   "cell_type": "code",
   "execution_count": 24,
   "metadata": {},
   "outputs": [
    {
     "name": "stdout",
     "output_type": "stream",
     "text": [
      "/home/jupyter-semme/ESCI_OE_774_874/Lab_A/Lab_A_TIDE.txt\n"
     ]
    }
   ],
   "source": [
    "fullpath=os.path.abspath(os.path.curdir)\n",
    "fullpath+=\"/Lab_A_TIDE.txt\"\n",
    "print(fullpath)"
   ]
  },
  {
   "cell_type": "markdown",
   "metadata": {},
   "source": [
    "In the code cell below call the `read_jhc_file()` method with the argument `fullpath` of the `water_level_data` instance, then print its metadata"
   ]
  },
  {
   "cell_type": "code",
   "execution_count": 25,
   "metadata": {},
   "outputs": [
    {
     "name": "stdout",
     "output_type": "stream",
     "text": [
      "Opening water level data file:/home/jupyter-semme/ESCI_OE_774_874/Lab_A/Lab_A_TIDE.txt\n",
      "{'units': 'm', 'geoid': 'EGM96', 'start_time': None, 'end_time': None, 'count': None, 'Source File': '/home/jupyter-semme/ESCI_OE_774_874/Lab_A/Lab_A_TIDE.txt'}\n"
     ]
    }
   ],
   "source": [
    "water_level_data.read_jhc_file(fullpath)\n",
    "print(water_level_data.metadata)"
   ]
  },
  {
   "cell_type": "markdown",
   "metadata": {},
   "source": [
    "### 1.1.8 Read a File Using the read_jhc_file Method\n",
    "\n",
    "You now have written a lot of code, but you still have not added any of the contents of the data file to your `water_level_data` object! Look at the code in the [Read and Write Text Files](../../python_basics/006_Read_and_Write_Text_Files.ipynb) notebook to\n",
    "\n",
    "- Add code that opens the file specified by  the argument `fullpath`\n",
    "    - test\n",
    "- \n",
    "\n"
   ]
  },
  {
   "cell_type": "markdown",
   "metadata": {},
   "source": [
    "## 1.2 Class Definition for GNSS Data "
   ]
  },
  {
   "cell_type": "code",
   "execution_count": 26,
   "metadata": {},
   "outputs": [],
   "source": [
    "import os.path\n",
    "from datetime import datetime, timezone\n",
    "\n",
    "class GNSS_Data:\n",
    "    \"\"\"A Class for GNSS Data\"\"\"\n",
    "\n",
    "    def __init__(self):\n",
    "\n",
    "        # The data attributes\n",
    "        self.epochs = list()\n",
    "        self.latitudes = list()\n",
    "        self.longitudes = list()\n",
    "        self.ortho_heights = list()\n",
    "        self.metadata = dict()\n",
    "        self.metadata[\"units\"] = \"m\"\n",
    "        self.metadata[\"geoid\"] = None        \n",
    "        self.metadata[\"start_time\"] = None\n",
    "        self.metadata[\"end_time\"] = None\n",
    "        self.metadata[\"count\"] = None\n",
    "\n",
    "\n",
    "    # The I/O methods:\n",
    "\n",
    "    def read_jhc_file(self, fullpath):\n",
    "\n",
    "        # Check the File's existence\n",
    "        if os.path.exists(fullpath):\n",
    "            self.metadata[\"Source File\"] = fullpath\n",
    "            print('Opening water level data file:' + fullpath)\n",
    "        else:  # Raise a meaningful error\n",
    "            raise RuntimeError('Unable to locate the input file' + fullpath)\n",
    "\n",
    "        # Open, read and close the file\n",
    "        gnss_file = open(fullpath)\n",
    "        gnss_content = gnss_file.read()\n",
    "        gnss_file.close\n",
    "\n",
    "        # Tokenize the contents\n",
    "        gnss_lines = gnss_content.splitlines()\n",
    "        count = 0  # initialize the counter for the number of rows read\n",
    "        for gnss_line in gnss_lines:\n",
    "            observations = gnss_line.split()  # Tokenize the string\n",
    "            epoch=datetime.fromtimestamp(float(observations[5]), timezone.utc)\n",
    "            self.epochs.append(epoch)\n",
    "            self.latitudes.append(float(observations[6]))\n",
    "            self.longitudes.append(float(observations[7]))\n",
    "            self.ortho_heights.append(float(observations[8]))\n",
    "            count += 1"
   ]
  },
  {
   "cell_type": "code",
   "execution_count": 27,
   "metadata": {},
   "outputs": [
    {
     "name": "stdout",
     "output_type": "stream",
     "text": [
      "/home/jupyter-semme/ESCI_OE_774_874/Lab_A/Lab_A_GNSS.txt\n",
      "Opening water level data file:/home/jupyter-semme/ESCI_OE_774_874/Lab_A/Lab_A_GNSS.txt\n"
     ]
    }
   ],
   "source": [
    "pos_data = GNSS_Data()\n",
    "fullpath=os.path.abspath(os.path.curdir)\n",
    "fullpath+=\"/Lab_A_GNSS.txt\"\n",
    "print(fullpath)\n",
    "pos_data.read_jhc_file(fullpath)"
   ]
  },
  {
   "cell_type": "markdown",
   "metadata": {},
   "source": [
    "## 1.3 Class Definition for TWTT Data"
   ]
  },
  {
   "cell_type": "code",
   "execution_count": 28,
   "metadata": {},
   "outputs": [],
   "source": [
    "import os.path\n",
    "from datetime import datetime, timezone\n",
    "\n",
    "class TWTT_Data:\n",
    "    \"\"\"A Class for Two Way Travel Time Data\"\"\"\n",
    "\n",
    "    def __init__(self):\n",
    "\n",
    "        # The data attributes\n",
    "        self.epochs = list()\n",
    "        self.twtts = list()\n",
    "        self.metadata = dict()\n",
    "        self.metadata[\"units\"] = \"s\"\n",
    "        self.metadata[\"start_time\"] = None\n",
    "        self.metadata[\"end_time\"] = None\n",
    "        self.metadata[\"count\"] = None\n",
    "\n",
    "    # The I/O methods:\n",
    "\n",
    "    def read_jhc_file(self, fullpath):\n",
    "\n",
    "        # Check the File's existence\n",
    "        if os.path.exists(fullpath):\n",
    "            self.metadata[\"Source File\"] = fullpath\n",
    "            print('Opening water level data file:' + fullpath)\n",
    "        else:  # Raise a meaningful error\n",
    "            raise RuntimeError('Unable to locate the input file' + fullpath)\n",
    "\n",
    "        # Open, read and close the file\n",
    "        twtt_file = open(fullpath)\n",
    "        twtt_content = twtt_file.read()\n",
    "        twtt_file.close\n",
    "\n",
    "        # Tokenize the contents\n",
    "        twtt_lines = twtt_content.splitlines()\n",
    "        count = 0  # initialize the counter for the number of rows read\n",
    "        for twtt_line in twtt_lines:\n",
    "            observations = twtt_line.split()  # Tokenize the string\n",
    "            epoch=datetime.fromtimestamp(float(observations[5]), timezone.utc)\n",
    "            self.epochs.append(epoch)\n",
    "            self.twtts.append(float(observations[6]))\n",
    "            count += 1"
   ]
  },
  {
   "cell_type": "code",
   "execution_count": 29,
   "metadata": {
    "scrolled": false
   },
   "outputs": [
    {
     "name": "stdout",
     "output_type": "stream",
     "text": [
      "/home/jupyter-semme/ESCI_OE_774_874/Lab_A/Lab_A_TWTT.txt\n",
      "Opening water level data file:/home/jupyter-semme/ESCI_OE_774_874/Lab_A/Lab_A_TWTT.txt\n"
     ]
    }
   ],
   "source": [
    "twtt_data = TWTT_Data()\n",
    "fullpath=os.path.abspath(os.path.curdir)\n",
    "fullpath+=\"/Lab_A_TWTT.txt\"\n",
    "print(fullpath)\n",
    "twtt_data.read_jhc_file(fullpath)\n"
   ]
  },
  {
   "cell_type": "markdown",
   "metadata": {},
   "source": [
    "## 1.4 Class Definition for MRU Data\n",
    "\n",
    "Note the need for radians, need to import the math module (or scipy module)"
   ]
  },
  {
   "cell_type": "code",
   "execution_count": 33,
   "metadata": {},
   "outputs": [],
   "source": [
    "import os.path\n",
    "from datetime import datetime, timezone\n",
    "from math import pi\n",
    "\n",
    "class Motion_Data:\n",
    "    \"\"\"A Class for motion Data\"\"\"\n",
    "\n",
    "    def __init__(self):\n",
    "\n",
    "        # The data attributes\n",
    "        self.epochs = list()\n",
    "        self.yaw = list()        \n",
    "        self.roll = list()        \n",
    "        self.pitch = list()        \n",
    "        self.heave = list()\n",
    "        self.metadata = dict()\n",
    "        self.metadata[\"units\"] = \"rad\"        \n",
    "        self.metadata[\"start_time\"] = None\n",
    "        self.metadata[\"end_time\"] = None\n",
    "        self.metadata[\"count\"] = None\n",
    "\n",
    "\n",
    "    # The I/O methods:\n",
    "\n",
    "    def read_jhc_file(self, fullpath):\n",
    "\n",
    "        # Check the File's existence\n",
    "        if os.path.exists(fullpath):\n",
    "            self.metadata[\"Source File\"] = fullpath\n",
    "            print('Opening water level data file:' + fullpath)\n",
    "        else:  # Raise a meaningful error\n",
    "            raise RuntimeError('Unable to locate the input file' + fullpath)\n",
    "\n",
    "        # Open, read and close the file\n",
    "        motion_file = open(fullpath)\n",
    "        motion_content = motion_file.read()\n",
    "        motion_file.close\n",
    "\n",
    "        # Tokenize the contents\n",
    "        motion_lines = motion_content.splitlines()\n",
    "        count = 0  # initialize the counter for the number of rows read\n",
    "        for motion_line in motion_lines:\n",
    "            observations = motion_line.split()  # Tokenize the string\n",
    "            epoch=datetime.fromtimestamp(float(observations[5]), timezone.utc)\n",
    "            self.epochs.append(epoch)\n",
    "            self.yaw.append(float(observations[6])*pi/180)\n",
    "            self.pitch.append(float(observations[7])*pi/180)\n",
    "            self.roll.append(float(observations[8])*pi/180)\n",
    "            self.heave.append(float(observations[9])*pi/180)\n",
    "            count += 1"
   ]
  },
  {
   "cell_type": "code",
   "execution_count": 35,
   "metadata": {
    "scrolled": false
   },
   "outputs": [
    {
     "name": "stdout",
     "output_type": "stream",
     "text": [
      "/home/jupyter-semme/ESCI_OE_774_874/Lab_A/Lab_A_MRU.txt\n",
      "Opening water level data file:/home/jupyter-semme/ESCI_OE_774_874/Lab_A/Lab_A_MRU.txt\n"
     ]
    }
   ],
   "source": [
    "motion_data = Motion_Data()\n",
    "fullpath=os.path.abspath(os.path.curdir)\n",
    "fullpath+=\"/Lab_A_MRU.txt\"\n",
    "print(fullpath)\n",
    "motion_data.read_jhc_file(fullpath)\n"
   ]
  },
  {
   "cell_type": "markdown",
   "metadata": {},
   "source": [
    "# 2 Spatial Data Class Definition\n",
    "\n",
    "In this section you will define a class for a sound speed profile. This is a little different in nature as it contains data obtained at a single epoch at a given location\n"
   ]
  },
  {
   "cell_type": "markdown",
   "metadata": {},
   "source": [
    "## 2.1 Class Definition for Sound Speed Profile Data\n",
    "\n",
    "Will hold a single profile in each object"
   ]
  },
  {
   "cell_type": "code",
   "execution_count": 136,
   "metadata": {},
   "outputs": [],
   "source": [
    "import os.path\n",
    "from datetime import datetime, timezone\n",
    "from math import pi\n",
    "\n",
    "\n",
    "class SVP_Data:\n",
    "    \"\"\"A Class for motion Data\"\"\"\n",
    "\n",
    "    def __init__(self):\n",
    "\n",
    "        # The data attributes\n",
    "        self.obs_epoch = None\n",
    "        self.log_epoch = None\n",
    "        self.obs_latitude = None\n",
    "        self.obs_longitude = None\n",
    "        self.vessel_latitude = None\n",
    "        self.vessel_longitude = None\n",
    "        self.obs_sample = list()\n",
    "        self.obs_depth = list()\n",
    "        self.obs_ss = list()\n",
    "\n",
    "        self.metadata = dict()\n",
    "        self.metadata[\"units\"] = \"rad\"\n",
    "        self.metadata[\"count\"] = None\n",
    "\n",
    "    # The I/O methods:\n",
    "\n",
    "    def read_jhc_file(self, fullpath):\n",
    "\n",
    "        # Check the File's existence\n",
    "        if os.path.exists(fullpath):\n",
    "            self.metadata[\"Source File\"] = fullpath\n",
    "            print('Opening water level data file:' + fullpath)\n",
    "        else:  # Raise a meaningful error\n",
    "            raise RuntimeError('Unable to locate the input file' + fullpath)\n",
    "\n",
    "        # Open, read and close the file\n",
    "        motion_file = open(fullpath)\n",
    "        motion_content = motion_file.read()\n",
    "        motion_file.close\n",
    "\n",
    "        # Tokenize the contents\n",
    "        motion_lines = motion_content.splitlines()\n",
    "        self.obs_epoch = datetime.fromtimestamp(float(motion_lines[1].split()[0]), timezone.utc)\n",
    "        self.log_epoch = datetime.fromtimestamp(float(motion_lines[2].split()[0]), timezone.utc)\n",
    "        self.obs_latitude = float(motion_lines[3].split()[0])\n",
    "        self.obs_longitude = float(motion_lines[3].split()[1])\n",
    "        self.vessel_latitude = float(motion_lines[4].split()[0])\n",
    "        self.vessel_longitude = float(motion_lines[4].split()[1])\n",
    "        self.metadata[\"count\"] = float(motion_lines[5].split()[0])\n",
    "\n",
    "        count = 0  # initialize the counter for the number of rows read\n",
    "\n",
    "        for motion_line in motion_lines[16:]:\n",
    "            observations = motion_line.split()  # Tokenize the string\n",
    "            self.obs_sample.append(float(observations[0]))\n",
    "            self.obs_depth.append(float(observations[1]))\n",
    "            self.obs_ss.append(float(observations[2]))\n",
    "            count += 1\n",
    "\n",
    "        if self.metadata[\"count\"] != count:\n",
    "            raise RuntimeError('Nr of Samples read ('+str(count) +\n",
    "                               ') does not match metadata count (' +\n",
    "                               str(self.metadata[\"count\"])+')')"
   ]
  },
  {
   "cell_type": "code",
   "execution_count": 138,
   "metadata": {},
   "outputs": [
    {
     "name": "stdout",
     "output_type": "stream",
     "text": [
      "/home/jupyter-semme/ESCI_OE_774_874/Lab_A/Lab_A_SVP.txt\n",
      "Opening water level data file:/home/jupyter-semme/ESCI_OE_774_874/Lab_A/Lab_A_SVP.txt\n"
     ]
    }
   ],
   "source": [
    "svp_data = SVP_Data()\n",
    "fullpath=os.path.abspath(os.path.curdir)\n",
    "fullpath+=\"/Lab_A_SVP.txt\"\n",
    "print(fullpath)\n",
    "svp_data.read_jhc_file(fullpath)\n"
   ]
  },
  {
   "cell_type": "markdown",
   "metadata": {},
   "source": [
    "<img align=\"left\" width=\"5%\" style=\"padding-right:10px;\" src=\"../../python_basics/images/email.png\">\n",
    "\n",
    "*For issues or suggestions related to this notebook, write to: epom@ccom.unh.edu*"
   ]
  }
 ],
 "metadata": {
  "kernelspec": {
   "display_name": "Python 3",
   "language": "python",
   "name": "python3"
  },
  "language_info": {
   "codemirror_mode": {
    "name": "ipython",
    "version": 3
   },
   "file_extension": ".py",
   "mimetype": "text/x-python",
   "name": "python",
   "nbconvert_exporter": "python",
   "pygments_lexer": "ipython3",
   "version": "3.6.7"
  }
 },
 "nbformat": 4,
 "nbformat_minor": 2
}
